{
 "cells": [
  {
   "cell_type": "code",
   "execution_count": 1,
   "id": "e03c8080",
   "metadata": {},
   "outputs": [],
   "source": [
    "import matplotlib.pyplot as plt\n",
    "import numpy as np\n",
    "import seaborn as sns\n",
    "import sklearn \n",
    "import pandas as pd\n",
    "\n",
    "from sklearn.linear_model import LinearRegression\n",
    "from sklearn.tree import DecisionTreeRegressor\n",
    "from sklearn.ensemble import RandomForestRegressor"
   ]
  },
  {
   "cell_type": "code",
   "execution_count": 2,
   "id": "a10b53ed",
   "metadata": {},
   "outputs": [],
   "source": [
    "train=pd.read_csv('C:\\\\YoussefENSI\\\\Spaceship titanic\\\\train.csv')\n",
    "test=pd.read_csv('C:\\\\YoussefENSI\\\\Spaceship titanic\\\\test.csv')"
   ]
  },
  {
   "cell_type": "code",
   "execution_count": 3,
   "id": "f6dc7705",
   "metadata": {},
   "outputs": [],
   "source": [
    "df_train=train.copy()\n",
    "X_pred=test.copy()"
   ]
  },
  {
   "cell_type": "code",
   "execution_count": 4,
   "id": "8081d526",
   "metadata": {},
   "outputs": [
    {
     "data": {
      "text/plain": [
       "(8693, 14)"
      ]
     },
     "execution_count": 4,
     "metadata": {},
     "output_type": "execute_result"
    }
   ],
   "source": [
    "df_train.shape"
   ]
  },
  {
   "cell_type": "code",
   "execution_count": 5,
   "id": "e8c96e3d",
   "metadata": {},
   "outputs": [
    {
     "data": {
      "text/plain": [
       "PassengerId     0.000000\n",
       "Transported     0.000000\n",
       "Age             0.020591\n",
       "RoomService     0.020821\n",
       "Destination     0.020936\n",
       "FoodCourt       0.021051\n",
       "Spa             0.021051\n",
       "VRDeck          0.021627\n",
       "Cabin           0.022892\n",
       "Name            0.023007\n",
       "HomePlanet      0.023122\n",
       "VIP             0.023352\n",
       "ShoppingMall    0.023927\n",
       "CryoSleep       0.024963\n",
       "dtype: float64"
      ]
     },
     "execution_count": 5,
     "metadata": {},
     "output_type": "execute_result"
    }
   ],
   "source": [
    "(df_train.isna().sum()/df_train.shape[0]).sort_values(ascending=True)"
   ]
  },
  {
   "cell_type": "markdown",
   "id": "5290d585",
   "metadata": {},
   "source": [
    "### (8693, 14):shape\n",
    "- **cabin: binary P /S**\n",
    "- **PassengerId/Name:are multiple uniques,probably will be dropped later**\n",
    "- **Transported:the target variable**\n"
   ]
  },
  {
   "cell_type": "code",
   "execution_count": 6,
   "id": "1f36ccd7",
   "metadata": {},
   "outputs": [],
   "source": [
    "X_train=df_train.drop(['Transported'],axis=1)\n",
    "y_train=df_train.Transported"
   ]
  },
  {
   "cell_type": "code",
   "execution_count": 7,
   "id": "78288ebe",
   "metadata": {},
   "outputs": [
    {
     "data": {
      "text/plain": [
       "True     4378\n",
       "False    4315\n",
       "Name: Transported, dtype: int64"
      ]
     },
     "execution_count": 7,
     "metadata": {},
     "output_type": "execute_result"
    }
   ],
   "source": [
    "df_train.Transported.value_counts()\n"
   ]
  },
  {
   "cell_type": "code",
   "execution_count": 8,
   "id": "809adb18",
   "metadata": {},
   "outputs": [
    {
     "data": {
      "text/html": [
       "<div>\n",
       "<style scoped>\n",
       "    .dataframe tbody tr th:only-of-type {\n",
       "        vertical-align: middle;\n",
       "    }\n",
       "\n",
       "    .dataframe tbody tr th {\n",
       "        vertical-align: top;\n",
       "    }\n",
       "\n",
       "    .dataframe thead th {\n",
       "        text-align: right;\n",
       "    }\n",
       "</style>\n",
       "<table border=\"1\" class=\"dataframe\">\n",
       "  <thead>\n",
       "    <tr style=\"text-align: right;\">\n",
       "      <th></th>\n",
       "      <th>Age</th>\n",
       "      <th>RoomService</th>\n",
       "      <th>FoodCourt</th>\n",
       "      <th>ShoppingMall</th>\n",
       "      <th>Spa</th>\n",
       "      <th>VRDeck</th>\n",
       "    </tr>\n",
       "  </thead>\n",
       "  <tbody>\n",
       "    <tr>\n",
       "      <th>count</th>\n",
       "      <td>8514.000000</td>\n",
       "      <td>8512.000000</td>\n",
       "      <td>8510.000000</td>\n",
       "      <td>8485.000000</td>\n",
       "      <td>8510.000000</td>\n",
       "      <td>8505.000000</td>\n",
       "    </tr>\n",
       "    <tr>\n",
       "      <th>mean</th>\n",
       "      <td>28.827930</td>\n",
       "      <td>224.687617</td>\n",
       "      <td>458.077203</td>\n",
       "      <td>173.729169</td>\n",
       "      <td>311.138778</td>\n",
       "      <td>304.854791</td>\n",
       "    </tr>\n",
       "    <tr>\n",
       "      <th>std</th>\n",
       "      <td>14.489021</td>\n",
       "      <td>666.717663</td>\n",
       "      <td>1611.489240</td>\n",
       "      <td>604.696458</td>\n",
       "      <td>1136.705535</td>\n",
       "      <td>1145.717189</td>\n",
       "    </tr>\n",
       "    <tr>\n",
       "      <th>min</th>\n",
       "      <td>0.000000</td>\n",
       "      <td>0.000000</td>\n",
       "      <td>0.000000</td>\n",
       "      <td>0.000000</td>\n",
       "      <td>0.000000</td>\n",
       "      <td>0.000000</td>\n",
       "    </tr>\n",
       "    <tr>\n",
       "      <th>25%</th>\n",
       "      <td>19.000000</td>\n",
       "      <td>0.000000</td>\n",
       "      <td>0.000000</td>\n",
       "      <td>0.000000</td>\n",
       "      <td>0.000000</td>\n",
       "      <td>0.000000</td>\n",
       "    </tr>\n",
       "    <tr>\n",
       "      <th>50%</th>\n",
       "      <td>27.000000</td>\n",
       "      <td>0.000000</td>\n",
       "      <td>0.000000</td>\n",
       "      <td>0.000000</td>\n",
       "      <td>0.000000</td>\n",
       "      <td>0.000000</td>\n",
       "    </tr>\n",
       "    <tr>\n",
       "      <th>75%</th>\n",
       "      <td>38.000000</td>\n",
       "      <td>47.000000</td>\n",
       "      <td>76.000000</td>\n",
       "      <td>27.000000</td>\n",
       "      <td>59.000000</td>\n",
       "      <td>46.000000</td>\n",
       "    </tr>\n",
       "    <tr>\n",
       "      <th>max</th>\n",
       "      <td>79.000000</td>\n",
       "      <td>14327.000000</td>\n",
       "      <td>29813.000000</td>\n",
       "      <td>23492.000000</td>\n",
       "      <td>22408.000000</td>\n",
       "      <td>24133.000000</td>\n",
       "    </tr>\n",
       "  </tbody>\n",
       "</table>\n",
       "</div>"
      ],
      "text/plain": [
       "               Age   RoomService     FoodCourt  ShoppingMall           Spa  \\\n",
       "count  8514.000000   8512.000000   8510.000000   8485.000000   8510.000000   \n",
       "mean     28.827930    224.687617    458.077203    173.729169    311.138778   \n",
       "std      14.489021    666.717663   1611.489240    604.696458   1136.705535   \n",
       "min       0.000000      0.000000      0.000000      0.000000      0.000000   \n",
       "25%      19.000000      0.000000      0.000000      0.000000      0.000000   \n",
       "50%      27.000000      0.000000      0.000000      0.000000      0.000000   \n",
       "75%      38.000000     47.000000     76.000000     27.000000     59.000000   \n",
       "max      79.000000  14327.000000  29813.000000  23492.000000  22408.000000   \n",
       "\n",
       "             VRDeck  \n",
       "count   8505.000000  \n",
       "mean     304.854791  \n",
       "std     1145.717189  \n",
       "min        0.000000  \n",
       "25%        0.000000  \n",
       "50%        0.000000  \n",
       "75%       46.000000  \n",
       "max    24133.000000  "
      ]
     },
     "execution_count": 8,
     "metadata": {},
     "output_type": "execute_result"
    }
   ],
   "source": [
    "X_train.describe()"
   ]
  },
  {
   "cell_type": "code",
   "execution_count": 9,
   "id": "72d80cf9",
   "metadata": {},
   "outputs": [
    {
     "name": "stdout",
     "output_type": "stream",
     "text": [
      "\n",
      "\n",
      "Unique Values in PassengerId---------------------------------------:\n",
      "0001_01    1\n",
      "6136_01    1\n",
      "6141_01    1\n",
      "6139_06    1\n",
      "6139_05    1\n",
      "          ..\n",
      "3126_01    1\n",
      "3124_03    1\n",
      "3124_02    1\n",
      "3124_01    1\n",
      "9280_02    1\n",
      "Name: PassengerId, Length: 8693, dtype: int64\n",
      "\n",
      "\n",
      "Unique Values in HomePlanet----------------------------------------:\n",
      "Earth     4602\n",
      "Europa    2131\n",
      "Mars      1759\n",
      "Name: HomePlanet, dtype: int64\n",
      "\n",
      "\n",
      "Unique Values in CryoSleep-----------------------------------------:\n",
      "False    5439\n",
      "True     3037\n",
      "Name: CryoSleep, dtype: int64\n",
      "\n",
      "\n",
      "Unique Values in Cabin---------------------------------------------:\n",
      "G/734/S     8\n",
      "G/109/P     7\n",
      "B/201/P     7\n",
      "G/1368/P    7\n",
      "G/981/S     7\n",
      "           ..\n",
      "G/556/P     1\n",
      "E/231/S     1\n",
      "G/545/S     1\n",
      "G/543/S     1\n",
      "F/947/P     1\n",
      "Name: Cabin, Length: 6560, dtype: int64\n",
      "\n",
      "\n",
      "Unique Values in Destination---------------------------------------:\n",
      "TRAPPIST-1e      5915\n",
      "55 Cancri e      1800\n",
      "PSO J318.5-22     796\n",
      "Name: Destination, dtype: int64\n",
      "\n",
      "\n",
      "Unique Values in Age-----------------------------------------------:\n",
      "24.0    324\n",
      "18.0    320\n",
      "21.0    311\n",
      "19.0    293\n",
      "23.0    292\n",
      "       ... \n",
      "72.0      4\n",
      "78.0      3\n",
      "79.0      3\n",
      "76.0      2\n",
      "77.0      2\n",
      "Name: Age, Length: 80, dtype: int64\n",
      "\n",
      "\n",
      "Unique Values in VIP-----------------------------------------------:\n",
      "False    8291\n",
      "True      199\n",
      "Name: VIP, dtype: int64\n",
      "\n",
      "\n",
      "Unique Values in RoomService---------------------------------------:\n",
      "0.0       5577\n",
      "1.0        117\n",
      "2.0         79\n",
      "3.0         61\n",
      "4.0         47\n",
      "          ... \n",
      "1612.0       1\n",
      "2598.0       1\n",
      "632.0        1\n",
      "378.0        1\n",
      "745.0        1\n",
      "Name: RoomService, Length: 1273, dtype: int64\n",
      "\n",
      "\n",
      "Unique Values in FoodCourt-----------------------------------------:\n",
      "0.0       5456\n",
      "1.0        116\n",
      "2.0         75\n",
      "3.0         53\n",
      "4.0         53\n",
      "          ... \n",
      "3846.0       1\n",
      "5193.0       1\n",
      "312.0        1\n",
      "827.0        1\n",
      "4688.0       1\n",
      "Name: FoodCourt, Length: 1507, dtype: int64\n",
      "\n",
      "\n",
      "Unique Values in ShoppingMall--------------------------------------:\n",
      "0.0       5587\n",
      "1.0        153\n",
      "2.0         80\n",
      "3.0         59\n",
      "4.0         45\n",
      "          ... \n",
      "3627.0       1\n",
      "2074.0       1\n",
      "871.0        1\n",
      "742.0        1\n",
      "1872.0       1\n",
      "Name: ShoppingMall, Length: 1115, dtype: int64\n",
      "\n",
      "\n",
      "Unique Values in Spa-----------------------------------------------:\n",
      "0.0       5324\n",
      "1.0        146\n",
      "2.0        105\n",
      "5.0         53\n",
      "3.0         53\n",
      "          ... \n",
      "273.0        1\n",
      "2581.0       1\n",
      "2948.0       1\n",
      "3778.0       1\n",
      "1643.0       1\n",
      "Name: Spa, Length: 1327, dtype: int64\n",
      "\n",
      "\n",
      "Unique Values in VRDeck--------------------------------------------:\n",
      "0.0       5495\n",
      "1.0        139\n",
      "2.0         70\n",
      "3.0         56\n",
      "5.0         51\n",
      "          ... \n",
      "408.0        1\n",
      "876.0        1\n",
      "2891.0       1\n",
      "2102.0       1\n",
      "3235.0       1\n",
      "Name: VRDeck, Length: 1306, dtype: int64\n",
      "\n",
      "\n",
      "Unique Values in Name----------------------------------------------:\n",
      "Gollux Reedall        2\n",
      "Elaney Webstephrey    2\n",
      "Grake Porki           2\n",
      "Sus Coolez            2\n",
      "Apix Wala             2\n",
      "                     ..\n",
      "Jamela Griffy         1\n",
      "Hardy Griffy          1\n",
      "Salley Mckinn         1\n",
      "Mall Frasp            1\n",
      "Propsh Hontichre      1\n",
      "Name: Name, Length: 8473, dtype: int64\n"
     ]
    }
   ],
   "source": [
    "for col in X_train:\n",
    "    print(f\"\\n\\nUnique Values in {col:-<50}:\")\n",
    "    print(X_train[col].value_counts())"
   ]
  },
  {
   "cell_type": "code",
   "execution_count": 10,
   "id": "c6fd478f",
   "metadata": {},
   "outputs": [],
   "source": [
    "df_train.drop(['Name','PassengerId'],axis=1,inplace=True)\n",
    "X_pred.drop(['Name','PassengerId'],axis=1,inplace=True)\n"
   ]
  },
  {
   "cell_type": "code",
   "execution_count": 11,
   "id": "de772ae4",
   "metadata": {},
   "outputs": [
    {
     "data": {
      "text/html": [
       "<div>\n",
       "<style scoped>\n",
       "    .dataframe tbody tr th:only-of-type {\n",
       "        vertical-align: middle;\n",
       "    }\n",
       "\n",
       "    .dataframe tbody tr th {\n",
       "        vertical-align: top;\n",
       "    }\n",
       "\n",
       "    .dataframe thead th {\n",
       "        text-align: right;\n",
       "    }\n",
       "</style>\n",
       "<table border=\"1\" class=\"dataframe\">\n",
       "  <thead>\n",
       "    <tr style=\"text-align: right;\">\n",
       "      <th></th>\n",
       "      <th>HomePlanet</th>\n",
       "      <th>CryoSleep</th>\n",
       "      <th>Cabin</th>\n",
       "      <th>Destination</th>\n",
       "      <th>Age</th>\n",
       "      <th>VIP</th>\n",
       "      <th>RoomService</th>\n",
       "      <th>FoodCourt</th>\n",
       "      <th>ShoppingMall</th>\n",
       "      <th>Spa</th>\n",
       "      <th>VRDeck</th>\n",
       "      <th>Transported</th>\n",
       "    </tr>\n",
       "  </thead>\n",
       "  <tbody>\n",
       "    <tr>\n",
       "      <th>0</th>\n",
       "      <td>Europa</td>\n",
       "      <td>False</td>\n",
       "      <td>B/0/P</td>\n",
       "      <td>TRAPPIST-1e</td>\n",
       "      <td>39.0</td>\n",
       "      <td>False</td>\n",
       "      <td>0.0</td>\n",
       "      <td>0.0</td>\n",
       "      <td>0.0</td>\n",
       "      <td>0.0</td>\n",
       "      <td>0.0</td>\n",
       "      <td>False</td>\n",
       "    </tr>\n",
       "    <tr>\n",
       "      <th>1</th>\n",
       "      <td>Earth</td>\n",
       "      <td>False</td>\n",
       "      <td>F/0/S</td>\n",
       "      <td>TRAPPIST-1e</td>\n",
       "      <td>24.0</td>\n",
       "      <td>False</td>\n",
       "      <td>109.0</td>\n",
       "      <td>9.0</td>\n",
       "      <td>25.0</td>\n",
       "      <td>549.0</td>\n",
       "      <td>44.0</td>\n",
       "      <td>True</td>\n",
       "    </tr>\n",
       "    <tr>\n",
       "      <th>2</th>\n",
       "      <td>Europa</td>\n",
       "      <td>False</td>\n",
       "      <td>A/0/S</td>\n",
       "      <td>TRAPPIST-1e</td>\n",
       "      <td>58.0</td>\n",
       "      <td>True</td>\n",
       "      <td>43.0</td>\n",
       "      <td>3576.0</td>\n",
       "      <td>0.0</td>\n",
       "      <td>6715.0</td>\n",
       "      <td>49.0</td>\n",
       "      <td>False</td>\n",
       "    </tr>\n",
       "    <tr>\n",
       "      <th>3</th>\n",
       "      <td>Europa</td>\n",
       "      <td>False</td>\n",
       "      <td>A/0/S</td>\n",
       "      <td>TRAPPIST-1e</td>\n",
       "      <td>33.0</td>\n",
       "      <td>False</td>\n",
       "      <td>0.0</td>\n",
       "      <td>1283.0</td>\n",
       "      <td>371.0</td>\n",
       "      <td>3329.0</td>\n",
       "      <td>193.0</td>\n",
       "      <td>False</td>\n",
       "    </tr>\n",
       "    <tr>\n",
       "      <th>4</th>\n",
       "      <td>Earth</td>\n",
       "      <td>False</td>\n",
       "      <td>F/1/S</td>\n",
       "      <td>TRAPPIST-1e</td>\n",
       "      <td>16.0</td>\n",
       "      <td>False</td>\n",
       "      <td>303.0</td>\n",
       "      <td>70.0</td>\n",
       "      <td>151.0</td>\n",
       "      <td>565.0</td>\n",
       "      <td>2.0</td>\n",
       "      <td>True</td>\n",
       "    </tr>\n",
       "  </tbody>\n",
       "</table>\n",
       "</div>"
      ],
      "text/plain": [
       "  HomePlanet CryoSleep  Cabin  Destination   Age    VIP  RoomService  \\\n",
       "0     Europa     False  B/0/P  TRAPPIST-1e  39.0  False          0.0   \n",
       "1      Earth     False  F/0/S  TRAPPIST-1e  24.0  False        109.0   \n",
       "2     Europa     False  A/0/S  TRAPPIST-1e  58.0   True         43.0   \n",
       "3     Europa     False  A/0/S  TRAPPIST-1e  33.0  False          0.0   \n",
       "4      Earth     False  F/1/S  TRAPPIST-1e  16.0  False        303.0   \n",
       "\n",
       "   FoodCourt  ShoppingMall     Spa  VRDeck  Transported  \n",
       "0        0.0           0.0     0.0     0.0        False  \n",
       "1        9.0          25.0   549.0    44.0         True  \n",
       "2     3576.0           0.0  6715.0    49.0        False  \n",
       "3     1283.0         371.0  3329.0   193.0        False  \n",
       "4       70.0         151.0   565.0     2.0         True  "
      ]
     },
     "execution_count": 11,
     "metadata": {},
     "output_type": "execute_result"
    }
   ],
   "source": [
    "df_train.head()"
   ]
  },
  {
   "cell_type": "code",
   "execution_count": 12,
   "id": "c142e94d",
   "metadata": {},
   "outputs": [
    {
     "data": {
      "text/plain": [
       "HomePlanet       object\n",
       "CryoSleep        object\n",
       "Cabin            object\n",
       "Destination      object\n",
       "Age             float64\n",
       "VIP              object\n",
       "RoomService     float64\n",
       "FoodCourt       float64\n",
       "ShoppingMall    float64\n",
       "Spa             float64\n",
       "VRDeck          float64\n",
       "Transported        bool\n",
       "dtype: object"
      ]
     },
     "execution_count": 12,
     "metadata": {},
     "output_type": "execute_result"
    }
   ],
   "source": [
    "df_train.dtypes"
   ]
  },
  {
   "cell_type": "code",
   "execution_count": 13,
   "id": "744cefe4",
   "metadata": {},
   "outputs": [],
   "source": [
    "scale_mapper = {True:1, False:0}\n",
    "df_train.Transported = df_train.Transported.replace(scale_mapper)\n",
    "\n",
    "scale_mapper = {True:1, False:0}\n",
    "df_train.VIP = df_train.VIP.replace(scale_mapper)\n",
    "\n",
    "scale_mapper = {True:1, False:0}\n",
    "df_train.CryoSleep = df_train.CryoSleep.replace(scale_mapper)"
   ]
  },
  {
   "cell_type": "code",
   "execution_count": 14,
   "id": "1bb1e0f7",
   "metadata": {},
   "outputs": [],
   "source": [
    "scale_mapper = {True:1, False:0}\n",
    "X_pred.VIP = X_pred.VIP.replace(scale_mapper)\n",
    "\n",
    "scale_mapper = {True:1, False:0}\n",
    "X_pred.CryoSleep = X_pred.CryoSleep.replace(scale_mapper)"
   ]
  },
  {
   "cell_type": "code",
   "execution_count": 15,
   "id": "bba49b09",
   "metadata": {},
   "outputs": [
    {
     "data": {
      "text/html": [
       "<div>\n",
       "<style scoped>\n",
       "    .dataframe tbody tr th:only-of-type {\n",
       "        vertical-align: middle;\n",
       "    }\n",
       "\n",
       "    .dataframe tbody tr th {\n",
       "        vertical-align: top;\n",
       "    }\n",
       "\n",
       "    .dataframe thead th {\n",
       "        text-align: right;\n",
       "    }\n",
       "</style>\n",
       "<table border=\"1\" class=\"dataframe\">\n",
       "  <thead>\n",
       "    <tr style=\"text-align: right;\">\n",
       "      <th></th>\n",
       "      <th>HomePlanet</th>\n",
       "      <th>CryoSleep</th>\n",
       "      <th>Cabin</th>\n",
       "      <th>Destination</th>\n",
       "      <th>Age</th>\n",
       "      <th>VIP</th>\n",
       "      <th>RoomService</th>\n",
       "      <th>FoodCourt</th>\n",
       "      <th>ShoppingMall</th>\n",
       "      <th>Spa</th>\n",
       "      <th>VRDeck</th>\n",
       "      <th>Transported</th>\n",
       "    </tr>\n",
       "  </thead>\n",
       "  <tbody>\n",
       "    <tr>\n",
       "      <th>0</th>\n",
       "      <td>Europa</td>\n",
       "      <td>0.0</td>\n",
       "      <td>B/0/P</td>\n",
       "      <td>TRAPPIST-1e</td>\n",
       "      <td>39.0</td>\n",
       "      <td>0.0</td>\n",
       "      <td>0.0</td>\n",
       "      <td>0.0</td>\n",
       "      <td>0.0</td>\n",
       "      <td>0.0</td>\n",
       "      <td>0.0</td>\n",
       "      <td>0</td>\n",
       "    </tr>\n",
       "    <tr>\n",
       "      <th>1</th>\n",
       "      <td>Earth</td>\n",
       "      <td>0.0</td>\n",
       "      <td>F/0/S</td>\n",
       "      <td>TRAPPIST-1e</td>\n",
       "      <td>24.0</td>\n",
       "      <td>0.0</td>\n",
       "      <td>109.0</td>\n",
       "      <td>9.0</td>\n",
       "      <td>25.0</td>\n",
       "      <td>549.0</td>\n",
       "      <td>44.0</td>\n",
       "      <td>1</td>\n",
       "    </tr>\n",
       "    <tr>\n",
       "      <th>2</th>\n",
       "      <td>Europa</td>\n",
       "      <td>0.0</td>\n",
       "      <td>A/0/S</td>\n",
       "      <td>TRAPPIST-1e</td>\n",
       "      <td>58.0</td>\n",
       "      <td>1.0</td>\n",
       "      <td>43.0</td>\n",
       "      <td>3576.0</td>\n",
       "      <td>0.0</td>\n",
       "      <td>6715.0</td>\n",
       "      <td>49.0</td>\n",
       "      <td>0</td>\n",
       "    </tr>\n",
       "    <tr>\n",
       "      <th>3</th>\n",
       "      <td>Europa</td>\n",
       "      <td>0.0</td>\n",
       "      <td>A/0/S</td>\n",
       "      <td>TRAPPIST-1e</td>\n",
       "      <td>33.0</td>\n",
       "      <td>0.0</td>\n",
       "      <td>0.0</td>\n",
       "      <td>1283.0</td>\n",
       "      <td>371.0</td>\n",
       "      <td>3329.0</td>\n",
       "      <td>193.0</td>\n",
       "      <td>0</td>\n",
       "    </tr>\n",
       "    <tr>\n",
       "      <th>4</th>\n",
       "      <td>Earth</td>\n",
       "      <td>0.0</td>\n",
       "      <td>F/1/S</td>\n",
       "      <td>TRAPPIST-1e</td>\n",
       "      <td>16.0</td>\n",
       "      <td>0.0</td>\n",
       "      <td>303.0</td>\n",
       "      <td>70.0</td>\n",
       "      <td>151.0</td>\n",
       "      <td>565.0</td>\n",
       "      <td>2.0</td>\n",
       "      <td>1</td>\n",
       "    </tr>\n",
       "  </tbody>\n",
       "</table>\n",
       "</div>"
      ],
      "text/plain": [
       "  HomePlanet  CryoSleep  Cabin  Destination   Age  VIP  RoomService  \\\n",
       "0     Europa        0.0  B/0/P  TRAPPIST-1e  39.0  0.0          0.0   \n",
       "1      Earth        0.0  F/0/S  TRAPPIST-1e  24.0  0.0        109.0   \n",
       "2     Europa        0.0  A/0/S  TRAPPIST-1e  58.0  1.0         43.0   \n",
       "3     Europa        0.0  A/0/S  TRAPPIST-1e  33.0  0.0          0.0   \n",
       "4      Earth        0.0  F/1/S  TRAPPIST-1e  16.0  0.0        303.0   \n",
       "\n",
       "   FoodCourt  ShoppingMall     Spa  VRDeck  Transported  \n",
       "0        0.0           0.0     0.0     0.0            0  \n",
       "1        9.0          25.0   549.0    44.0            1  \n",
       "2     3576.0           0.0  6715.0    49.0            0  \n",
       "3     1283.0         371.0  3329.0   193.0            0  \n",
       "4       70.0         151.0   565.0     2.0            1  "
      ]
     },
     "execution_count": 15,
     "metadata": {},
     "output_type": "execute_result"
    }
   ],
   "source": [
    "df_train.head()"
   ]
  },
  {
   "cell_type": "code",
   "execution_count": 16,
   "id": "b35a100e",
   "metadata": {},
   "outputs": [],
   "source": [
    "for col in ['Destination','HomePlanet']:\n",
    "    one_hot = pd.get_dummies(df_train[col])\n",
    "    # Drop column as it is now encoded\n",
    "    df_train = df_train.drop(col,axis = 1)\n",
    "    # Join the encoded df\n",
    "    df_train = df_train.join(one_hot)\n",
    "    df_train \n"
   ]
  },
  {
   "cell_type": "code",
   "execution_count": 17,
   "id": "6c130b82",
   "metadata": {},
   "outputs": [],
   "source": [
    "for col in ['Destination','HomePlanet']:\n",
    "    one_hot = pd.get_dummies(X_pred[col])\n",
    "    # Drop column as it is now encoded\n",
    "    X_pred = X_pred.drop(col,axis = 1)\n",
    "    # Join the encoded df\n",
    "    X_pred = X_pred.join(one_hot)\n",
    "    \n",
    "    X_pred"
   ]
  },
  {
   "cell_type": "code",
   "execution_count": 18,
   "id": "5a738fe8",
   "metadata": {},
   "outputs": [
    {
     "data": {
      "text/html": [
       "<div>\n",
       "<style scoped>\n",
       "    .dataframe tbody tr th:only-of-type {\n",
       "        vertical-align: middle;\n",
       "    }\n",
       "\n",
       "    .dataframe tbody tr th {\n",
       "        vertical-align: top;\n",
       "    }\n",
       "\n",
       "    .dataframe thead th {\n",
       "        text-align: right;\n",
       "    }\n",
       "</style>\n",
       "<table border=\"1\" class=\"dataframe\">\n",
       "  <thead>\n",
       "    <tr style=\"text-align: right;\">\n",
       "      <th></th>\n",
       "      <th>Cabin</th>\n",
       "    </tr>\n",
       "  </thead>\n",
       "  <tbody>\n",
       "    <tr>\n",
       "      <th>0</th>\n",
       "      <td>B/0/P</td>\n",
       "    </tr>\n",
       "    <tr>\n",
       "      <th>1</th>\n",
       "      <td>F/0/S</td>\n",
       "    </tr>\n",
       "    <tr>\n",
       "      <th>2</th>\n",
       "      <td>A/0/S</td>\n",
       "    </tr>\n",
       "    <tr>\n",
       "      <th>3</th>\n",
       "      <td>A/0/S</td>\n",
       "    </tr>\n",
       "    <tr>\n",
       "      <th>4</th>\n",
       "      <td>F/1/S</td>\n",
       "    </tr>\n",
       "    <tr>\n",
       "      <th>...</th>\n",
       "      <td>...</td>\n",
       "    </tr>\n",
       "    <tr>\n",
       "      <th>8688</th>\n",
       "      <td>A/98/P</td>\n",
       "    </tr>\n",
       "    <tr>\n",
       "      <th>8689</th>\n",
       "      <td>G/1499/S</td>\n",
       "    </tr>\n",
       "    <tr>\n",
       "      <th>8690</th>\n",
       "      <td>G/1500/S</td>\n",
       "    </tr>\n",
       "    <tr>\n",
       "      <th>8691</th>\n",
       "      <td>E/608/S</td>\n",
       "    </tr>\n",
       "    <tr>\n",
       "      <th>8692</th>\n",
       "      <td>E/608/S</td>\n",
       "    </tr>\n",
       "  </tbody>\n",
       "</table>\n",
       "<p>8693 rows × 1 columns</p>\n",
       "</div>"
      ],
      "text/plain": [
       "         Cabin\n",
       "0        B/0/P\n",
       "1        F/0/S\n",
       "2        A/0/S\n",
       "3        A/0/S\n",
       "4        F/1/S\n",
       "...        ...\n",
       "8688    A/98/P\n",
       "8689  G/1499/S\n",
       "8690  G/1500/S\n",
       "8691   E/608/S\n",
       "8692   E/608/S\n",
       "\n",
       "[8693 rows x 1 columns]"
      ]
     },
     "execution_count": 18,
     "metadata": {},
     "output_type": "execute_result"
    }
   ],
   "source": [
    "df_train.select_dtypes('object')"
   ]
  },
  {
   "cell_type": "markdown",
   "id": "bba596ce",
   "metadata": {},
   "source": [
    "sns.histplot(x=df_train['Cabin'],data=df_train)"
   ]
  },
  {
   "cell_type": "markdown",
   "id": "e318424a",
   "metadata": {},
   "source": [
    "sns.countplot(x=df_train['Cabin'])"
   ]
  },
  {
   "cell_type": "markdown",
   "id": "5d2abe98",
   "metadata": {},
   "source": [
    "Cabin is in form deck/num/side then we should split it"
   ]
  },
  {
   "cell_type": "code",
   "execution_count": 19,
   "id": "4e26c152",
   "metadata": {},
   "outputs": [],
   "source": [
    "df_train[['Deck','Num','Side']]=df_train['Cabin'].str.split('/',n=2,expand=True)\n"
   ]
  },
  {
   "cell_type": "code",
   "execution_count": 20,
   "id": "2cc1f583",
   "metadata": {},
   "outputs": [],
   "source": [
    "X_pred[['Deck','Num','Side']]=X_pred['Cabin'].str.split('/',n=2,expand=True)\n"
   ]
  },
  {
   "cell_type": "code",
   "execution_count": 21,
   "id": "6510e0f2",
   "metadata": {},
   "outputs": [],
   "source": [
    "df_train.drop(['Cabin'],axis=1,inplace=True)"
   ]
  },
  {
   "cell_type": "code",
   "execution_count": 22,
   "id": "87e1334e",
   "metadata": {},
   "outputs": [],
   "source": [
    "X_pred.drop(['Cabin'],axis=1,inplace=True)"
   ]
  },
  {
   "cell_type": "code",
   "execution_count": 23,
   "id": "7dd54d1e",
   "metadata": {},
   "outputs": [
    {
     "data": {
      "text/plain": [
       "S    4288\n",
       "P    4206\n",
       "Name: Side, dtype: int64"
      ]
     },
     "execution_count": 23,
     "metadata": {},
     "output_type": "execute_result"
    }
   ],
   "source": [
    "df_train.Side.value_counts()"
   ]
  },
  {
   "cell_type": "code",
   "execution_count": 24,
   "id": "04d61263",
   "metadata": {},
   "outputs": [],
   "source": [
    "scale_mapper = {'S':1, 'P':0}\n",
    "df_train.Side = df_train.Side.replace(scale_mapper)"
   ]
  },
  {
   "cell_type": "code",
   "execution_count": 25,
   "id": "b9c7b597",
   "metadata": {},
   "outputs": [],
   "source": [
    "scale_mapper = {'S':1, 'P':0}\n",
    "X_pred.Side = X_pred.Side.replace(scale_mapper)"
   ]
  },
  {
   "cell_type": "code",
   "execution_count": 26,
   "id": "c1105149",
   "metadata": {},
   "outputs": [
    {
     "data": {
      "text/plain": [
       "1818"
      ]
     },
     "execution_count": 26,
     "metadata": {},
     "output_type": "execute_result"
    }
   ],
   "source": [
    "len(df_train.Num.unique())"
   ]
  },
  {
   "cell_type": "code",
   "execution_count": 27,
   "id": "69976e82",
   "metadata": {},
   "outputs": [
    {
     "data": {
      "text/plain": [
       "9"
      ]
     },
     "execution_count": 27,
     "metadata": {},
     "output_type": "execute_result"
    }
   ],
   "source": [
    "len(df_train.Deck.unique())"
   ]
  },
  {
   "cell_type": "code",
   "execution_count": 28,
   "id": "c5576a6a",
   "metadata": {},
   "outputs": [],
   "source": [
    "from sklearn.preprocessing import LabelEncoder\n",
    "le =LabelEncoder()\n",
    "df_train.Deck=le.fit_transform(df_train.Deck)"
   ]
  },
  {
   "cell_type": "code",
   "execution_count": 29,
   "id": "dff88b4c",
   "metadata": {},
   "outputs": [],
   "source": [
    "X_pred.Deck=le.fit_transform(X_pred.Deck)"
   ]
  },
  {
   "cell_type": "code",
   "execution_count": 30,
   "id": "0e88c3e6",
   "metadata": {},
   "outputs": [
    {
     "data": {
      "text/html": [
       "<div>\n",
       "<style scoped>\n",
       "    .dataframe tbody tr th:only-of-type {\n",
       "        vertical-align: middle;\n",
       "    }\n",
       "\n",
       "    .dataframe tbody tr th {\n",
       "        vertical-align: top;\n",
       "    }\n",
       "\n",
       "    .dataframe thead th {\n",
       "        text-align: right;\n",
       "    }\n",
       "</style>\n",
       "<table border=\"1\" class=\"dataframe\">\n",
       "  <thead>\n",
       "    <tr style=\"text-align: right;\">\n",
       "      <th></th>\n",
       "      <th>CryoSleep</th>\n",
       "      <th>Age</th>\n",
       "      <th>VIP</th>\n",
       "      <th>RoomService</th>\n",
       "      <th>FoodCourt</th>\n",
       "      <th>ShoppingMall</th>\n",
       "      <th>Spa</th>\n",
       "      <th>VRDeck</th>\n",
       "      <th>55 Cancri e</th>\n",
       "      <th>PSO J318.5-22</th>\n",
       "      <th>TRAPPIST-1e</th>\n",
       "      <th>Earth</th>\n",
       "      <th>Europa</th>\n",
       "      <th>Mars</th>\n",
       "      <th>Deck</th>\n",
       "      <th>Num</th>\n",
       "      <th>Side</th>\n",
       "    </tr>\n",
       "  </thead>\n",
       "  <tbody>\n",
       "    <tr>\n",
       "      <th>0</th>\n",
       "      <td>1.0</td>\n",
       "      <td>27.0</td>\n",
       "      <td>0.0</td>\n",
       "      <td>0.0</td>\n",
       "      <td>0.0</td>\n",
       "      <td>0.0</td>\n",
       "      <td>0.0</td>\n",
       "      <td>0.0</td>\n",
       "      <td>0</td>\n",
       "      <td>0</td>\n",
       "      <td>1</td>\n",
       "      <td>1</td>\n",
       "      <td>0</td>\n",
       "      <td>0</td>\n",
       "      <td>6</td>\n",
       "      <td>3</td>\n",
       "      <td>1.0</td>\n",
       "    </tr>\n",
       "    <tr>\n",
       "      <th>1</th>\n",
       "      <td>0.0</td>\n",
       "      <td>19.0</td>\n",
       "      <td>0.0</td>\n",
       "      <td>0.0</td>\n",
       "      <td>9.0</td>\n",
       "      <td>0.0</td>\n",
       "      <td>2823.0</td>\n",
       "      <td>0.0</td>\n",
       "      <td>0</td>\n",
       "      <td>0</td>\n",
       "      <td>1</td>\n",
       "      <td>1</td>\n",
       "      <td>0</td>\n",
       "      <td>0</td>\n",
       "      <td>5</td>\n",
       "      <td>4</td>\n",
       "      <td>1.0</td>\n",
       "    </tr>\n",
       "    <tr>\n",
       "      <th>2</th>\n",
       "      <td>1.0</td>\n",
       "      <td>31.0</td>\n",
       "      <td>0.0</td>\n",
       "      <td>0.0</td>\n",
       "      <td>0.0</td>\n",
       "      <td>0.0</td>\n",
       "      <td>0.0</td>\n",
       "      <td>0.0</td>\n",
       "      <td>1</td>\n",
       "      <td>0</td>\n",
       "      <td>0</td>\n",
       "      <td>0</td>\n",
       "      <td>1</td>\n",
       "      <td>0</td>\n",
       "      <td>2</td>\n",
       "      <td>0</td>\n",
       "      <td>1.0</td>\n",
       "    </tr>\n",
       "    <tr>\n",
       "      <th>3</th>\n",
       "      <td>0.0</td>\n",
       "      <td>38.0</td>\n",
       "      <td>0.0</td>\n",
       "      <td>0.0</td>\n",
       "      <td>6652.0</td>\n",
       "      <td>0.0</td>\n",
       "      <td>181.0</td>\n",
       "      <td>585.0</td>\n",
       "      <td>0</td>\n",
       "      <td>0</td>\n",
       "      <td>1</td>\n",
       "      <td>0</td>\n",
       "      <td>1</td>\n",
       "      <td>0</td>\n",
       "      <td>2</td>\n",
       "      <td>1</td>\n",
       "      <td>1.0</td>\n",
       "    </tr>\n",
       "    <tr>\n",
       "      <th>4</th>\n",
       "      <td>0.0</td>\n",
       "      <td>20.0</td>\n",
       "      <td>0.0</td>\n",
       "      <td>10.0</td>\n",
       "      <td>0.0</td>\n",
       "      <td>635.0</td>\n",
       "      <td>0.0</td>\n",
       "      <td>0.0</td>\n",
       "      <td>0</td>\n",
       "      <td>0</td>\n",
       "      <td>1</td>\n",
       "      <td>1</td>\n",
       "      <td>0</td>\n",
       "      <td>0</td>\n",
       "      <td>5</td>\n",
       "      <td>5</td>\n",
       "      <td>1.0</td>\n",
       "    </tr>\n",
       "    <tr>\n",
       "      <th>...</th>\n",
       "      <td>...</td>\n",
       "      <td>...</td>\n",
       "      <td>...</td>\n",
       "      <td>...</td>\n",
       "      <td>...</td>\n",
       "      <td>...</td>\n",
       "      <td>...</td>\n",
       "      <td>...</td>\n",
       "      <td>...</td>\n",
       "      <td>...</td>\n",
       "      <td>...</td>\n",
       "      <td>...</td>\n",
       "      <td>...</td>\n",
       "      <td>...</td>\n",
       "      <td>...</td>\n",
       "      <td>...</td>\n",
       "      <td>...</td>\n",
       "    </tr>\n",
       "    <tr>\n",
       "      <th>4272</th>\n",
       "      <td>1.0</td>\n",
       "      <td>34.0</td>\n",
       "      <td>0.0</td>\n",
       "      <td>0.0</td>\n",
       "      <td>0.0</td>\n",
       "      <td>0.0</td>\n",
       "      <td>0.0</td>\n",
       "      <td>0.0</td>\n",
       "      <td>0</td>\n",
       "      <td>0</td>\n",
       "      <td>1</td>\n",
       "      <td>1</td>\n",
       "      <td>0</td>\n",
       "      <td>0</td>\n",
       "      <td>6</td>\n",
       "      <td>1496</td>\n",
       "      <td>1.0</td>\n",
       "    </tr>\n",
       "    <tr>\n",
       "      <th>4273</th>\n",
       "      <td>0.0</td>\n",
       "      <td>42.0</td>\n",
       "      <td>0.0</td>\n",
       "      <td>0.0</td>\n",
       "      <td>847.0</td>\n",
       "      <td>17.0</td>\n",
       "      <td>10.0</td>\n",
       "      <td>144.0</td>\n",
       "      <td>0</td>\n",
       "      <td>0</td>\n",
       "      <td>1</td>\n",
       "      <td>1</td>\n",
       "      <td>0</td>\n",
       "      <td>0</td>\n",
       "      <td>8</td>\n",
       "      <td>NaN</td>\n",
       "      <td>NaN</td>\n",
       "    </tr>\n",
       "    <tr>\n",
       "      <th>4274</th>\n",
       "      <td>1.0</td>\n",
       "      <td>NaN</td>\n",
       "      <td>0.0</td>\n",
       "      <td>0.0</td>\n",
       "      <td>0.0</td>\n",
       "      <td>0.0</td>\n",
       "      <td>0.0</td>\n",
       "      <td>0.0</td>\n",
       "      <td>1</td>\n",
       "      <td>0</td>\n",
       "      <td>0</td>\n",
       "      <td>0</td>\n",
       "      <td>0</td>\n",
       "      <td>1</td>\n",
       "      <td>3</td>\n",
       "      <td>296</td>\n",
       "      <td>0.0</td>\n",
       "    </tr>\n",
       "    <tr>\n",
       "      <th>4275</th>\n",
       "      <td>0.0</td>\n",
       "      <td>NaN</td>\n",
       "      <td>0.0</td>\n",
       "      <td>0.0</td>\n",
       "      <td>2680.0</td>\n",
       "      <td>0.0</td>\n",
       "      <td>0.0</td>\n",
       "      <td>523.0</td>\n",
       "      <td>0</td>\n",
       "      <td>0</td>\n",
       "      <td>0</td>\n",
       "      <td>0</td>\n",
       "      <td>1</td>\n",
       "      <td>0</td>\n",
       "      <td>3</td>\n",
       "      <td>297</td>\n",
       "      <td>0.0</td>\n",
       "    </tr>\n",
       "    <tr>\n",
       "      <th>4276</th>\n",
       "      <td>1.0</td>\n",
       "      <td>43.0</td>\n",
       "      <td>0.0</td>\n",
       "      <td>0.0</td>\n",
       "      <td>0.0</td>\n",
       "      <td>0.0</td>\n",
       "      <td>0.0</td>\n",
       "      <td>0.0</td>\n",
       "      <td>0</td>\n",
       "      <td>1</td>\n",
       "      <td>0</td>\n",
       "      <td>1</td>\n",
       "      <td>0</td>\n",
       "      <td>0</td>\n",
       "      <td>6</td>\n",
       "      <td>1498</td>\n",
       "      <td>1.0</td>\n",
       "    </tr>\n",
       "  </tbody>\n",
       "</table>\n",
       "<p>4277 rows × 17 columns</p>\n",
       "</div>"
      ],
      "text/plain": [
       "      CryoSleep   Age  VIP  RoomService  FoodCourt  ShoppingMall     Spa  \\\n",
       "0           1.0  27.0  0.0          0.0        0.0           0.0     0.0   \n",
       "1           0.0  19.0  0.0          0.0        9.0           0.0  2823.0   \n",
       "2           1.0  31.0  0.0          0.0        0.0           0.0     0.0   \n",
       "3           0.0  38.0  0.0          0.0     6652.0           0.0   181.0   \n",
       "4           0.0  20.0  0.0         10.0        0.0         635.0     0.0   \n",
       "...         ...   ...  ...          ...        ...           ...     ...   \n",
       "4272        1.0  34.0  0.0          0.0        0.0           0.0     0.0   \n",
       "4273        0.0  42.0  0.0          0.0      847.0          17.0    10.0   \n",
       "4274        1.0   NaN  0.0          0.0        0.0           0.0     0.0   \n",
       "4275        0.0   NaN  0.0          0.0     2680.0           0.0     0.0   \n",
       "4276        1.0  43.0  0.0          0.0        0.0           0.0     0.0   \n",
       "\n",
       "      VRDeck  55 Cancri e  PSO J318.5-22  TRAPPIST-1e  Earth  Europa  Mars  \\\n",
       "0        0.0            0              0            1      1       0     0   \n",
       "1        0.0            0              0            1      1       0     0   \n",
       "2        0.0            1              0            0      0       1     0   \n",
       "3      585.0            0              0            1      0       1     0   \n",
       "4        0.0            0              0            1      1       0     0   \n",
       "...      ...          ...            ...          ...    ...     ...   ...   \n",
       "4272     0.0            0              0            1      1       0     0   \n",
       "4273   144.0            0              0            1      1       0     0   \n",
       "4274     0.0            1              0            0      0       0     1   \n",
       "4275   523.0            0              0            0      0       1     0   \n",
       "4276     0.0            0              1            0      1       0     0   \n",
       "\n",
       "      Deck   Num  Side  \n",
       "0        6     3   1.0  \n",
       "1        5     4   1.0  \n",
       "2        2     0   1.0  \n",
       "3        2     1   1.0  \n",
       "4        5     5   1.0  \n",
       "...    ...   ...   ...  \n",
       "4272     6  1496   1.0  \n",
       "4273     8   NaN   NaN  \n",
       "4274     3   296   0.0  \n",
       "4275     3   297   0.0  \n",
       "4276     6  1498   1.0  \n",
       "\n",
       "[4277 rows x 17 columns]"
      ]
     },
     "execution_count": 30,
     "metadata": {},
     "output_type": "execute_result"
    }
   ],
   "source": [
    "X_pred"
   ]
  },
  {
   "cell_type": "code",
   "execution_count": 31,
   "id": "d4563d2b",
   "metadata": {},
   "outputs": [],
   "source": [
    "#we are gonna replace the nan vals\n",
    "\n",
    "for col in df_train.drop(['Transported'],axis=1).columns:\n",
    "    # most frequent value in Team\n",
    "    mostF=df_train[col].median()\n",
    "    df_train[col].fillna(mostF,inplace=True)\n",
    "    \n",
    "    mostFtest=X_pred[col].median()\n",
    "    X_pred[col].fillna(mostFtest,inplace=True)\n",
    "    \n",
    "#X_train=df_train.drop(['Transported'],axis=1)\n",
    "#y_train=df_train['Transported']"
   ]
  },
  {
   "cell_type": "code",
   "execution_count": 32,
   "id": "74ead241",
   "metadata": {},
   "outputs": [],
   "source": [
    "from sklearn.tree import DecisionTreeClassifier\n",
    "from sklearn.ensemble import RandomForestClassifier\n",
    "from sklearn.model_selection import train_test_split\n",
    "from sklearn.linear_model import SGDClassifier\n",
    "from sklearn.ensemble import VotingClassifier"
   ]
  },
  {
   "cell_type": "markdown",
   "id": "6183b2ab",
   "metadata": {},
   "source": [
    "# TrainTestSlpit"
   ]
  },
  {
   "cell_type": "code",
   "execution_count": 33,
   "id": "21e2d68d",
   "metadata": {},
   "outputs": [],
   "source": [
    "trainn,testt=train_test_split(df_train,random_state=0,test_size=0.15)#best \n",
    "\n",
    "X_train=trainn.drop(['Transported'],axis=1)\n",
    "X_test=testt.drop(['Transported'],axis=1)\n",
    "y_train=trainn.Transported\n",
    "y_test=testt.Transported"
   ]
  },
  {
   "cell_type": "code",
   "execution_count": 370,
   "id": "4914f25a",
   "metadata": {},
   "outputs": [],
   "source": [
    "\n",
    "\n",
    "d=RandomForestClassifier(random_state=0,max_depth=100,max_leaf_nodes=800)\n",
    "from sklearn.ensemble import BaggingClassifier,GradientBoostingClassifier,AdaBoostClassifier\n",
    "m=BaggingClassifier(d)\n",
    "ada=AdaBoostClassifier(random_state=0)\n",
    "g=GradientBoostingClassifier(random_state=0)\n",
    "model3 = KNeighborsClassifier(n_neighbors=40)\n",
    "model1 = SGDClassifier(random_state=0)\n",
    "model4=VotingClassifier([('bag',d),('ada',ada)],voting='hard')#,('DT',m)"
   ]
  },
  {
   "cell_type": "code",
   "execution_count": 371,
   "id": "b141daaa",
   "metadata": {},
   "outputs": [
    {
     "name": "stdout",
     "output_type": "stream",
     "text": [
      "RFC\n",
      "score : 0.8159509202453987\n",
      "recall_score : 0.816358024691358\n",
      "precision_score : 0.8138461538461539\n",
      "BC\n",
      "score : 0.8182515337423313\n",
      "recall_score : 0.8314606741573034\n",
      "precision_score : 0.796923076923077\n"
     ]
    }
   ],
   "source": [
    "d.fit(X_train,y_train)\n",
    "m.fit(X_train,y_train)\n",
    "print(f'RFC\\nscore : {d.score(X_test,y_test)}')\n",
    "print(f'recall_score : {recall_score(d.predict(X_test),y_test)}')\n",
    "print(f'precision_score : {sklearn.metrics.precision_score(d.predict(X_test),y_test)}')\n",
    "\n",
    "\n",
    "print(f'BC\\nscore : {m.score(X_test,y_test)}')\n",
    "print(f'recall_score : {recall_score(m.predict(X_test),y_test)}')\n",
    "print(f'precision_score : {sklearn.metrics.precision_score(m.predict(X_test),y_test)}')\n"
   ]
  },
  {
   "cell_type": "code",
   "execution_count": 307,
   "id": "fc5c2a9d",
   "metadata": {},
   "outputs": [
    {
     "data": {
      "text/plain": [
       "<matplotlib.legend.Legend at 0x27de50216d0>"
      ]
     },
     "execution_count": 307,
     "metadata": {},
     "output_type": "execute_result"
    },
    {
     "data": {
      "image/png": "[encoded data removed]",
      "text/plain": [
       "<Figure size 864x576 with 1 Axes>"
      ]
     },
     "metadata": {
      "needs_background": "light"
     },
     "output_type": "display_data"
    }
   ],
   "source": [
    "l,ll,r=sklearn.metrics.precision_recall_curve(d.predict(X_test),y_test)\n",
    "plt.figure(figsize=(12,8))\n",
    "plt.plot(l,ll,marker='.',label='Logistic')#fait attention train_score.mean(axis=1)\n",
    "    #plt.plot(N,val_score.mean(axis=1),label='validation score')\n",
    "plt.xlabel('Recall')\n",
    "plt.ylabel('Precision')\n",
    "plt.legend()"
   ]
  },
  {
   "cell_type": "markdown",
   "id": "16731047",
   "metadata": {},
   "source": [
    "X_test.fillna(0,inplace=True)"
   ]
  },
  {
   "cell_type": "markdown",
   "id": "ab7bf820",
   "metadata": {
    "scrolled": true
   },
   "source": [
    "for model in [model1,d,model3,model4,m,g]:\n",
    "    model.fit(X_train,y_train)\n",
    "    print(model.__class__.__name__,model.score(X_test,y_test))"
   ]
  },
  {
   "cell_type": "code",
   "execution_count": 217,
   "id": "2b5d6e40",
   "metadata": {},
   "outputs": [],
   "source": [
    "from sklearn.metrics import accuracy_score, balanced_accuracy_score,recall_score,f1_score,classification_report,confusion_matrix"
   ]
  },
  {
   "cell_type": "code",
   "execution_count": 372,
   "id": "aa9a6de0",
   "metadata": {},
   "outputs": [
    {
     "name": "stdout",
     "output_type": "stream",
     "text": [
      "              precision    recall  f1-score   support\n",
      "\n",
      "           0       0.82      0.82      0.82       656\n",
      "           1       0.81      0.82      0.82       648\n",
      "\n",
      "    accuracy                           0.82      1304\n",
      "   macro avg       0.82      0.82      0.82      1304\n",
      "weighted avg       0.82      0.82      0.82      1304\n",
      "\n",
      "[[535 121]\n",
      " [119 529]]\n",
      "              precision    recall  f1-score   support\n",
      "\n",
      "           0       0.84      0.81      0.82       681\n",
      "           1       0.80      0.83      0.81       623\n",
      "\n",
      "    accuracy                           0.82      1304\n",
      "   macro avg       0.82      0.82      0.82      1304\n",
      "weighted avg       0.82      0.82      0.82      1304\n",
      "\n",
      "[[549 132]\n",
      " [105 518]]\n"
     ]
    }
   ],
   "source": [
    "y_pred=d.predict(X_test)\n",
    "y_pred_VC=m.predict(X_test)\n",
    "\n",
    "print(classification_report(y_pred,y_test))\n",
    "print(confusion_matrix(y_pred,y_test))\n",
    "\n",
    "print(classification_report(y_pred_VC,y_test))\n",
    "print(confusion_matrix(y_pred_VC,y_test))"
   ]
  },
  {
   "cell_type": "markdown",
   "id": "480ed3e2",
   "metadata": {},
   "source": [
    "0       0.84      0.81      0.82       \n",
    "1       0.80      0.83      0.81       \n",
    "m :0789Kaggle"
   ]
  },
  {
   "cell_type": "markdown",
   "id": "6f254999",
   "metadata": {},
   "source": [
    "- **0.7377803335250144 median\n",
    "- **0.726279470960322 [.value_counts().idxmin()]:most frequent//fill with 0\n",
    "- **0.7717078780908568 with knearestneigbor"
   ]
  },
  {
   "cell_type": "markdown",
   "id": "2c6a86b6",
   "metadata": {},
   "source": [
    "from sklearn.ensemble import StackingClassifier\n",
    "\n",
    "model = StackingClassifier([('SGD',g),('DT',m),('KN',model3)],final_estimator=RandomForestClassifier())\n",
    "model.fit(X_train,y_train)\n",
    "model.score(X_test,y_test)"
   ]
  },
  {
   "cell_type": "code",
   "execution_count": 373,
   "id": "f65504bc",
   "metadata": {},
   "outputs": [],
   "source": [
    "Y=m.predict(X_pred)"
   ]
  },
  {
   "cell_type": "code",
   "execution_count": 374,
   "id": "f081a776",
   "metadata": {},
   "outputs": [],
   "source": [
    "scale_mapper = {1:True, 0:False}\n",
    "Y=pd.DataFrame(Y,columns=['Transported']).replace(scale_mapper)\n"
   ]
  },
  {
   "cell_type": "code",
   "execution_count": 375,
   "id": "fe865aaf",
   "metadata": {},
   "outputs": [
    {
     "data": {
      "text/html": [
       "<div>\n",
       "<style scoped>\n",
       "    .dataframe tbody tr th:only-of-type {\n",
       "        vertical-align: middle;\n",
       "    }\n",
       "\n",
       "    .dataframe tbody tr th {\n",
       "        vertical-align: top;\n",
       "    }\n",
       "\n",
       "    .dataframe thead th {\n",
       "        text-align: right;\n",
       "    }\n",
       "</style>\n",
       "<table border=\"1\" class=\"dataframe\">\n",
       "  <thead>\n",
       "    <tr style=\"text-align: right;\">\n",
       "      <th></th>\n",
       "      <th>Transported</th>\n",
       "    </tr>\n",
       "  </thead>\n",
       "  <tbody>\n",
       "    <tr>\n",
       "      <th>0</th>\n",
       "      <td>True</td>\n",
       "    </tr>\n",
       "    <tr>\n",
       "      <th>1</th>\n",
       "      <td>False</td>\n",
       "    </tr>\n",
       "    <tr>\n",
       "      <th>2</th>\n",
       "      <td>True</td>\n",
       "    </tr>\n",
       "    <tr>\n",
       "      <th>3</th>\n",
       "      <td>True</td>\n",
       "    </tr>\n",
       "    <tr>\n",
       "      <th>4</th>\n",
       "      <td>True</td>\n",
       "    </tr>\n",
       "    <tr>\n",
       "      <th>...</th>\n",
       "      <td>...</td>\n",
       "    </tr>\n",
       "    <tr>\n",
       "      <th>4272</th>\n",
       "      <td>False</td>\n",
       "    </tr>\n",
       "    <tr>\n",
       "      <th>4273</th>\n",
       "      <td>False</td>\n",
       "    </tr>\n",
       "    <tr>\n",
       "      <th>4274</th>\n",
       "      <td>True</td>\n",
       "    </tr>\n",
       "    <tr>\n",
       "      <th>4275</th>\n",
       "      <td>True</td>\n",
       "    </tr>\n",
       "    <tr>\n",
       "      <th>4276</th>\n",
       "      <td>False</td>\n",
       "    </tr>\n",
       "  </tbody>\n",
       "</table>\n",
       "<p>4277 rows × 1 columns</p>\n",
       "</div>"
      ],
      "text/plain": [
       "      Transported\n",
       "0            True\n",
       "1           False\n",
       "2            True\n",
       "3            True\n",
       "4            True\n",
       "...           ...\n",
       "4272        False\n",
       "4273        False\n",
       "4274         True\n",
       "4275         True\n",
       "4276        False\n",
       "\n",
       "[4277 rows x 1 columns]"
      ]
     },
     "execution_count": 375,
     "metadata": {},
     "output_type": "execute_result"
    }
   ],
   "source": [
    "Y"
   ]
  },
  {
   "cell_type": "code",
   "execution_count": 376,
   "id": "38b6095d",
   "metadata": {},
   "outputs": [],
   "source": [
    "output = pd.DataFrame({'PassengerId': test.PassengerId,\n",
    "                       'Transported': Y.Transported} )\n",
    "output.to_csv('submission00.csv', index=False)"
   ]
  },
  {
   "cell_type": "markdown",
   "id": "d8554361",
   "metadata": {},
   "source": [
    "we got a score of 0.75 on kaggleVoting classifier"
   ]
  },
  {
   "cell_type": "markdown",
   "id": "c824d15e",
   "metadata": {},
   "source": [
    "second submission with RandomForestClassifoer() 0.79120"
   ]
  },
  {
   "cell_type": "code",
   "execution_count": 157,
   "id": "efae3f51",
   "metadata": {},
   "outputs": [
    {
     "name": "stderr",
     "output_type": "stream",
     "text": [
      "C:\\Users\\THiNKBooK\\anaconda3\\lib\\site-packages\\sklearn\\model_selection\\_validation.py:372: FitFailedWarning: \n",
      "80 fits failed out of a total of 400.\n",
      "The score on these train-test partitions for these parameters will be set to nan.\n",
      "If these failures are not expected, you can try to debug them by setting error_score='raise'.\n",
      "\n",
      "Below are more details about the failures:\n",
      "--------------------------------------------------------------------------------\n",
      "80 fits failed with the following error:\n",
      "Traceback (most recent call last):\n",
      "  File \"C:\\Users\\THiNKBooK\\anaconda3\\lib\\site-packages\\sklearn\\model_selection\\_validation.py\", line 680, in _fit_and_score\n",
      "    estimator.fit(X_train, y_train, **fit_params)\n",
      "  File \"C:\\Users\\THiNKBooK\\anaconda3\\lib\\site-packages\\sklearn\\ensemble\\_forest.py\", line 450, in fit\n",
      "    trees = Parallel(\n",
      "  File \"C:\\Users\\THiNKBooK\\anaconda3\\lib\\site-packages\\joblib\\parallel.py\", line 1043, in __call__\n",
      "    if self.dispatch_one_batch(iterator):\n",
      "  File \"C:\\Users\\THiNKBooK\\anaconda3\\lib\\site-packages\\joblib\\parallel.py\", line 861, in dispatch_one_batch\n",
      "    self._dispatch(tasks)\n",
      "  File \"C:\\Users\\THiNKBooK\\anaconda3\\lib\\site-packages\\joblib\\parallel.py\", line 779, in _dispatch\n",
      "    job = self._backend.apply_async(batch, callback=cb)\n",
      "  File \"C:\\Users\\THiNKBooK\\anaconda3\\lib\\site-packages\\joblib\\_parallel_backends.py\", line 208, in apply_async\n",
      "    result = ImmediateResult(func)\n",
      "  File \"C:\\Users\\THiNKBooK\\anaconda3\\lib\\site-packages\\joblib\\_parallel_backends.py\", line 572, in __init__\n",
      "    self.results = batch()\n",
      "  File \"C:\\Users\\THiNKBooK\\anaconda3\\lib\\site-packages\\joblib\\parallel.py\", line 262, in __call__\n",
      "    return [func(*args, **kwargs)\n",
      "  File \"C:\\Users\\THiNKBooK\\anaconda3\\lib\\site-packages\\joblib\\parallel.py\", line 262, in <listcomp>\n",
      "    return [func(*args, **kwargs)\n",
      "  File \"C:\\Users\\THiNKBooK\\anaconda3\\lib\\site-packages\\sklearn\\utils\\fixes.py\", line 216, in __call__\n",
      "    return self.function(*args, **kwargs)\n",
      "  File \"C:\\Users\\THiNKBooK\\anaconda3\\lib\\site-packages\\sklearn\\ensemble\\_forest.py\", line 185, in _parallel_build_trees\n",
      "    tree.fit(X, y, sample_weight=curr_sample_weight, check_input=False)\n",
      "  File \"C:\\Users\\THiNKBooK\\anaconda3\\lib\\site-packages\\sklearn\\tree\\_classes.py\", line 937, in fit\n",
      "    super().fit(\n",
      "  File \"C:\\Users\\THiNKBooK\\anaconda3\\lib\\site-packages\\sklearn\\tree\\_classes.py\", line 314, in fit\n",
      "    raise ValueError(\n",
      "ValueError: max_leaf_nodes 1 must be either None or larger than 1\n",
      "\n",
      "  warnings.warn(some_fits_failed_message, FitFailedWarning)\n",
      "C:\\Users\\THiNKBooK\\anaconda3\\lib\\site-packages\\sklearn\\model_selection\\_search.py:969: UserWarning: One or more of the test scores are non-finite: [       nan 0.79055758 0.79055758 0.79055758 0.79055758        nan\n",
      " 0.79055758 0.79055758 0.79055758 0.79055758        nan 0.79055758\n",
      " 0.79055758 0.79055758 0.79055758        nan 0.79055758 0.79055758\n",
      " 0.79055758 0.79055758        nan 0.79055758 0.79069075 0.79069075\n",
      " 0.79069075        nan 0.79055758 0.79055758 0.79055758 0.79055758\n",
      "        nan 0.79055758 0.79055758 0.79055758 0.79055758        nan\n",
      " 0.79055758 0.78462883 0.78462883 0.78462883        nan 0.79055758\n",
      " 0.7907576  0.79649729 0.80015521        nan 0.79055758 0.79087071\n",
      " 0.79740646 0.79556985        nan 0.79055758 0.794192   0.78506905\n",
      " 0.78404712        nan 0.79055758 0.782959   0.77577537 0.7777259\n",
      "        nan 0.79055758 0.7907576  0.79706245 0.80035678        nan\n",
      " 0.79055758 0.79087071 0.79717038 0.79092121        nan 0.79055758\n",
      " 0.794192   0.78397011 0.77848233        nan 0.79055758 0.782959\n",
      " 0.7755452  0.77350986]\n",
      "  warnings.warn(\n"
     ]
    },
    {
     "data": {
      "text/plain": [
       "GridSearchCV(cv=5, estimator=RandomForestClassifier(),\n",
       "             param_grid={'max_depth': [1, 2, 5, 15],\n",
       "                         'max_features': [3, 5, 10, 15],\n",
       "                         'max_leaf_nodes': [1, 2, 5, 10, 15],\n",
       "                         'random_state': [0]},\n",
       "             scoring='precision')"
      ]
     },
     "execution_count": 157,
     "metadata": {},
     "output_type": "execute_result"
    }
   ],
   "source": [
    "\n",
    "params_grid={'random_state':[0],'max_leaf_nodes':[1,2,5,10,15],'max_features':[3,5,10,15],'max_depth':[1,2,5,15]}#RSC\n",
    "from sklearn.model_selection import GridSearchCV\n",
    "grid=GridSearchCV(RandomForestClassifier(),params_grid,scoring='precision',cv=5)\n",
    "\n",
    "grid.fit(X_train,y_train)"
   ]
  },
  {
   "cell_type": "code",
   "execution_count": 158,
   "id": "02942815",
   "metadata": {},
   "outputs": [
    {
     "data": {
      "text/plain": [
       "{'max_depth': 15, 'max_features': 3, 'max_leaf_nodes': 15, 'random_state': 0}"
      ]
     },
     "execution_count": 158,
     "metadata": {},
     "output_type": "execute_result"
    }
   ],
   "source": [
    "grid.best_params_"
   ]
  },
  {
   "cell_type": "markdown",
   "id": "55f57555",
   "metadata": {},
   "source": [
    "df_train.select_dtypes('float').z_score().sort_values()"
   ]
  },
  {
   "cell_type": "markdown",
   "id": "fa0fc5cc",
   "metadata": {},
   "source": [
    "df_train['Cs*2']=df_train.CryoSleep**2\n",
    "X_pred['Cs*2']=X_pred.CryoSleep**2"
   ]
  },
  {
   "cell_type": "code",
   "execution_count": 44,
   "id": "ebcfc84a",
   "metadata": {},
   "outputs": [
    {
     "name": "stderr",
     "output_type": "stream",
     "text": [
      "C:\\Users\\THiNKBooK\\anaconda3\\lib\\site-packages\\seaborn\\distributions.py:2619: FutureWarning: `distplot` is a deprecated function and will be removed in a future version. Please adapt your code to use either `displot` (a figure-level function with similar flexibility) or `histplot` (an axes-level function for histograms).\n",
      "  warnings.warn(msg, FutureWarning)\n",
      "C:\\Users\\THiNKBooK\\anaconda3\\lib\\site-packages\\seaborn\\distributions.py:2619: FutureWarning: `distplot` is a deprecated function and will be removed in a future version. Please adapt your code to use either `displot` (a figure-level function with similar flexibility) or `histplot` (an axes-level function for histograms).\n",
      "  warnings.warn(msg, FutureWarning)\n",
      "C:\\Users\\THiNKBooK\\anaconda3\\lib\\site-packages\\seaborn\\distributions.py:2619: FutureWarning: `distplot` is a deprecated function and will be removed in a future version. Please adapt your code to use either `displot` (a figure-level function with similar flexibility) or `histplot` (an axes-level function for histograms).\n",
      "  warnings.warn(msg, FutureWarning)\n",
      "C:\\Users\\THiNKBooK\\anaconda3\\lib\\site-packages\\seaborn\\distributions.py:2619: FutureWarning: `distplot` is a deprecated function and will be removed in a future version. Please adapt your code to use either `displot` (a figure-level function with similar flexibility) or `histplot` (an axes-level function for histograms).\n",
      "  warnings.warn(msg, FutureWarning)\n",
      "C:\\Users\\THiNKBooK\\anaconda3\\lib\\site-packages\\seaborn\\distributions.py:2619: FutureWarning: `distplot` is a deprecated function and will be removed in a future version. Please adapt your code to use either `displot` (a figure-level function with similar flexibility) or `histplot` (an axes-level function for histograms).\n",
      "  warnings.warn(msg, FutureWarning)\n",
      "C:\\Users\\THiNKBooK\\anaconda3\\lib\\site-packages\\seaborn\\distributions.py:2619: FutureWarning: `distplot` is a deprecated function and will be removed in a future version. Please adapt your code to use either `displot` (a figure-level function with similar flexibility) or `histplot` (an axes-level function for histograms).\n",
      "  warnings.warn(msg, FutureWarning)\n"
     ]
    },
    {
     "data": {
      "image/png": "[encoded data removed]",
      "text/plain": [
       "<Figure size 432x288 with 1 Axes>"
      ]
     },
     "metadata": {
      "needs_background": "light"
     },
     "output_type": "display_data"
    },
    {
     "data": {
      "image/png": "[encoded data removed]",
      "text/plain": [
       "<Figure size 432x288 with 1 Axes>"
      ]
     },
     "metadata": {
      "needs_background": "light"
     },
     "output_type": "display_data"
    },
    {
     "data": {
      "image/png": "[encoded data removed]",
      "text/plain": [
       "<Figure size 432x288 with 1 Axes>"
      ]
     },
     "metadata": {
      "needs_background": "light"
     },
     "output_type": "display_data"
    },
    {
     "data": {
      "image/png": "[encoded data removed]",
      "text/plain": [
       "<Figure size 432x288 with 1 Axes>"
      ]
     },
     "metadata": {
      "needs_background": "light"
     },
     "output_type": "display_data"
    },
    {
     "data": {
      "image/png": "[encoded data removed]",
      "text/plain": [
       "<Figure size 432x288 with 1 Axes>"
      ]
     },
     "metadata": {
      "needs_background": "light"
     },
     "output_type": "display_data"
    },
    {
     "data": {
      "image/png": "[encoded data removed]",
      "text/plain": [
       "<Figure size 432x288 with 1 Axes>"
      ]
     },
     "metadata": {
      "needs_background": "light"
     },
     "output_type": "display_data"
    }
   ],
   "source": [
    "for col in ['RoomService','FoodCourt','VRDeck','Spa','Age','ShoppingMall']:\n",
    "    plt.figure()\n",
    "    sns.distplot(df_train[col])"
   ]
  },
  {
   "cell_type": "code",
   "execution_count": 45,
   "id": "99ce8ad3",
   "metadata": {},
   "outputs": [],
   "source": [
    "df_train_corr=df_train.corr()['Transported'][:]"
   ]
  },
  {
   "cell_type": "code",
   "execution_count": 46,
   "id": "3f540296",
   "metadata": {},
   "outputs": [
    {
     "name": "stdout",
     "output_type": "stream",
     "text": [
      "These are the 17 correlated to the target variable \n",
      "Transported      1.000000\n",
      "CryoSleep        0.460132\n",
      "RoomService      0.241124\n",
      "Spa              0.218545\n",
      "VRDeck           0.204874\n",
      "Europa           0.176916\n",
      "Earth            0.169019\n",
      "Deck             0.109925\n",
      "55 Cancri e      0.108722\n",
      "Side             0.101397\n",
      "TRAPPIST-1e      0.094700\n",
      "Age              0.074233\n",
      "FoodCourt        0.045583\n",
      "VIP              0.037261\n",
      "Mars             0.019544\n",
      "ShoppingMall     0.009391\n",
      "PSO J318.5-22    0.000092\n",
      "Name: Transported, dtype: float64\n"
     ]
    }
   ],
   "source": [
    "top_features=abs(df_train_corr).sort_values(ascending=False)\n",
    "print(f\"These are the {len(top_features)} correlated to the target variable \\n{top_features}\")"
   ]
  },
  {
   "cell_type": "markdown",
   "id": "d9ed8082",
   "metadata": {},
   "source": [
    "none of them are well correlated"
   ]
  },
  {
   "cell_type": "markdown",
   "id": "26dba62e",
   "metadata": {},
   "source": [
    "# **Scalling**"
   ]
  },
  {
   "cell_type": "code",
   "execution_count": 47,
   "id": "ec9179b3",
   "metadata": {},
   "outputs": [],
   "source": [
    "from sklearn.preprocessing import RobustScaler,MinMaxScaler,StandardScaler"
   ]
  },
  {
   "cell_type": "code",
   "execution_count": 48,
   "id": "3946113f",
   "metadata": {},
   "outputs": [],
   "source": [
    "r=RobustScaler()\n",
    "t=MinMaxScaler()\n",
    "s=StandardScaler()"
   ]
  },
  {
   "cell_type": "code",
   "execution_count": 49,
   "id": "b7f41a2f",
   "metadata": {},
   "outputs": [],
   "source": [
    "df_train['Total_Sent']=df_train[['RoomService','FoodCourt','VRDeck','Spa','ShoppingMall']].sum(axis=1)\n",
    "X_pred['Total_Sent']=X_pred[['RoomService','FoodCourt','VRDeck','Spa','ShoppingMall']].sum(axis=1)\n",
    "\n",
    "\n",
    "\n"
   ]
  },
  {
   "cell_type": "code",
   "execution_count": 50,
   "id": "0b53bdde",
   "metadata": {
    "scrolled": true
   },
   "outputs": [
    {
     "data": {
      "text/html": [
       "<div>\n",
       "<style scoped>\n",
       "    .dataframe tbody tr th:only-of-type {\n",
       "        vertical-align: middle;\n",
       "    }\n",
       "\n",
       "    .dataframe tbody tr th {\n",
       "        vertical-align: top;\n",
       "    }\n",
       "\n",
       "    .dataframe thead th {\n",
       "        text-align: right;\n",
       "    }\n",
       "</style>\n",
       "<table border=\"1\" class=\"dataframe\">\n",
       "  <thead>\n",
       "    <tr style=\"text-align: right;\">\n",
       "      <th></th>\n",
       "      <th>RoomService</th>\n",
       "      <th>FoodCourt</th>\n",
       "      <th>VRDeck</th>\n",
       "      <th>Spa</th>\n",
       "      <th>Age</th>\n",
       "      <th>ShoppingMall</th>\n",
       "      <th>Transported</th>\n",
       "      <th>Total_Sent</th>\n",
       "    </tr>\n",
       "  </thead>\n",
       "  <tbody>\n",
       "    <tr>\n",
       "      <th>count</th>\n",
       "      <td>8693.000000</td>\n",
       "      <td>8693.000000</td>\n",
       "      <td>8693.000000</td>\n",
       "      <td>8693.000000</td>\n",
       "      <td>8693.000000</td>\n",
       "      <td>8693.000000</td>\n",
       "      <td>8693.000000</td>\n",
       "      <td>8693.000000</td>\n",
       "    </tr>\n",
       "    <tr>\n",
       "      <th>mean</th>\n",
       "      <td>220.009318</td>\n",
       "      <td>448.434027</td>\n",
       "      <td>298.261820</td>\n",
       "      <td>304.588865</td>\n",
       "      <td>28.790291</td>\n",
       "      <td>169.572300</td>\n",
       "      <td>0.503624</td>\n",
       "      <td>1440.866329</td>\n",
       "    </tr>\n",
       "    <tr>\n",
       "      <th>std</th>\n",
       "      <td>660.519050</td>\n",
       "      <td>1595.790627</td>\n",
       "      <td>1134.126417</td>\n",
       "      <td>1125.562559</td>\n",
       "      <td>14.341404</td>\n",
       "      <td>598.007164</td>\n",
       "      <td>0.500016</td>\n",
       "      <td>2803.045694</td>\n",
       "    </tr>\n",
       "    <tr>\n",
       "      <th>min</th>\n",
       "      <td>0.000000</td>\n",
       "      <td>0.000000</td>\n",
       "      <td>0.000000</td>\n",
       "      <td>0.000000</td>\n",
       "      <td>0.000000</td>\n",
       "      <td>0.000000</td>\n",
       "      <td>0.000000</td>\n",
       "      <td>0.000000</td>\n",
       "    </tr>\n",
       "    <tr>\n",
       "      <th>25%</th>\n",
       "      <td>0.000000</td>\n",
       "      <td>0.000000</td>\n",
       "      <td>0.000000</td>\n",
       "      <td>0.000000</td>\n",
       "      <td>20.000000</td>\n",
       "      <td>0.000000</td>\n",
       "      <td>0.000000</td>\n",
       "      <td>0.000000</td>\n",
       "    </tr>\n",
       "    <tr>\n",
       "      <th>50%</th>\n",
       "      <td>0.000000</td>\n",
       "      <td>0.000000</td>\n",
       "      <td>0.000000</td>\n",
       "      <td>0.000000</td>\n",
       "      <td>27.000000</td>\n",
       "      <td>0.000000</td>\n",
       "      <td>1.000000</td>\n",
       "      <td>716.000000</td>\n",
       "    </tr>\n",
       "    <tr>\n",
       "      <th>75%</th>\n",
       "      <td>41.000000</td>\n",
       "      <td>61.000000</td>\n",
       "      <td>40.000000</td>\n",
       "      <td>53.000000</td>\n",
       "      <td>37.000000</td>\n",
       "      <td>22.000000</td>\n",
       "      <td>1.000000</td>\n",
       "      <td>1441.000000</td>\n",
       "    </tr>\n",
       "    <tr>\n",
       "      <th>max</th>\n",
       "      <td>14327.000000</td>\n",
       "      <td>29813.000000</td>\n",
       "      <td>24133.000000</td>\n",
       "      <td>22408.000000</td>\n",
       "      <td>79.000000</td>\n",
       "      <td>23492.000000</td>\n",
       "      <td>1.000000</td>\n",
       "      <td>35987.000000</td>\n",
       "    </tr>\n",
       "  </tbody>\n",
       "</table>\n",
       "</div>"
      ],
      "text/plain": [
       "        RoomService     FoodCourt        VRDeck           Spa          Age  \\\n",
       "count   8693.000000   8693.000000   8693.000000   8693.000000  8693.000000   \n",
       "mean     220.009318    448.434027    298.261820    304.588865    28.790291   \n",
       "std      660.519050   1595.790627   1134.126417   1125.562559    14.341404   \n",
       "min        0.000000      0.000000      0.000000      0.000000     0.000000   \n",
       "25%        0.000000      0.000000      0.000000      0.000000    20.000000   \n",
       "50%        0.000000      0.000000      0.000000      0.000000    27.000000   \n",
       "75%       41.000000     61.000000     40.000000     53.000000    37.000000   \n",
       "max    14327.000000  29813.000000  24133.000000  22408.000000    79.000000   \n",
       "\n",
       "       ShoppingMall  Transported    Total_Sent  \n",
       "count   8693.000000  8693.000000   8693.000000  \n",
       "mean     169.572300     0.503624   1440.866329  \n",
       "std      598.007164     0.500016   2803.045694  \n",
       "min        0.000000     0.000000      0.000000  \n",
       "25%        0.000000     0.000000      0.000000  \n",
       "50%        0.000000     1.000000    716.000000  \n",
       "75%       22.000000     1.000000   1441.000000  \n",
       "max    23492.000000     1.000000  35987.000000  "
      ]
     },
     "execution_count": 50,
     "metadata": {},
     "output_type": "execute_result"
    }
   ],
   "source": [
    "df_train[['RoomService','FoodCourt','VRDeck','Spa','Age','ShoppingMall','Transported','Total_Sent']].describe()"
   ]
  },
  {
   "cell_type": "code",
   "execution_count": 51,
   "id": "8b34c2f2",
   "metadata": {
    "scrolled": true
   },
   "outputs": [
    {
     "name": "stderr",
     "output_type": "stream",
     "text": [
      "C:\\Users\\THiNKBooK\\AppData\\Local\\Temp\\ipykernel_276\\2243179595.py:1: FutureWarning: Support for multi-dimensional indexing (e.g. `obj[:, None]`) is deprecated and will be removed in a future version.  Convert to a numpy array before indexing instead.\n",
      "  df_train['Age']=t.fit_transform(df_train['Age'][:,np.newaxis])#MaxMin reduces performance\n"
     ]
    }
   ],
   "source": [
    "df_train['Age']=t.fit_transform(df_train['Age'][:,np.newaxis])#MaxMin reduces performance"
   ]
  },
  {
   "cell_type": "code",
   "execution_count": 52,
   "id": "19f778d0",
   "metadata": {},
   "outputs": [
    {
     "name": "stderr",
     "output_type": "stream",
     "text": [
      "C:\\Users\\THiNKBooK\\AppData\\Local\\Temp\\ipykernel_276\\1955376877.py:1: FutureWarning: Support for multi-dimensional indexing (e.g. `obj[:, None]`) is deprecated and will be removed in a future version.  Convert to a numpy array before indexing instead.\n",
      "  X_pred['Age']=t.fit_transform(X_pred['Age'][:,np.newaxis])#MaxMin reduces performance\n"
     ]
    }
   ],
   "source": [
    "X_pred['Age']=t.fit_transform(X_pred['Age'][:,np.newaxis])#MaxMin reduces performance"
   ]
  },
  {
   "cell_type": "code",
   "execution_count": 53,
   "id": "ce5b24b1",
   "metadata": {},
   "outputs": [
    {
     "name": "stderr",
     "output_type": "stream",
     "text": [
      "C:\\Users\\THiNKBooK\\AppData\\Local\\Temp\\ipykernel_276\\2112861327.py:2: FutureWarning: Support for multi-dimensional indexing (e.g. `obj[:, None]`) is deprecated and will be removed in a future version.  Convert to a numpy array before indexing instead.\n",
      "  df_train[col]=t.fit_transform(df_train[col][:,np.newaxis])\n",
      "C:\\Users\\THiNKBooK\\AppData\\Local\\Temp\\ipykernel_276\\2112861327.py:2: FutureWarning: Support for multi-dimensional indexing (e.g. `obj[:, None]`) is deprecated and will be removed in a future version.  Convert to a numpy array before indexing instead.\n",
      "  df_train[col]=t.fit_transform(df_train[col][:,np.newaxis])\n",
      "C:\\Users\\THiNKBooK\\AppData\\Local\\Temp\\ipykernel_276\\2112861327.py:2: FutureWarning: Support for multi-dimensional indexing (e.g. `obj[:, None]`) is deprecated and will be removed in a future version.  Convert to a numpy array before indexing instead.\n",
      "  df_train[col]=t.fit_transform(df_train[col][:,np.newaxis])\n",
      "C:\\Users\\THiNKBooK\\AppData\\Local\\Temp\\ipykernel_276\\2112861327.py:2: FutureWarning: Support for multi-dimensional indexing (e.g. `obj[:, None]`) is deprecated and will be removed in a future version.  Convert to a numpy array before indexing instead.\n",
      "  df_train[col]=t.fit_transform(df_train[col][:,np.newaxis])\n",
      "C:\\Users\\THiNKBooK\\AppData\\Local\\Temp\\ipykernel_276\\2112861327.py:2: FutureWarning: Support for multi-dimensional indexing (e.g. `obj[:, None]`) is deprecated and will be removed in a future version.  Convert to a numpy array before indexing instead.\n",
      "  df_train[col]=t.fit_transform(df_train[col][:,np.newaxis])\n",
      "C:\\Users\\THiNKBooK\\AppData\\Local\\Temp\\ipykernel_276\\2112861327.py:2: FutureWarning: Support for multi-dimensional indexing (e.g. `obj[:, None]`) is deprecated and will be removed in a future version.  Convert to a numpy array before indexing instead.\n",
      "  df_train[col]=t.fit_transform(df_train[col][:,np.newaxis])\n"
     ]
    }
   ],
   "source": [
    "for col in ['RoomService','FoodCourt','VRDeck','Spa','ShoppingMall','Total_Sent']:\n",
    "    df_train[col]=t.fit_transform(df_train[col][:,np.newaxis])\n",
    "#both scaler work the same"
   ]
  },
  {
   "cell_type": "code",
   "execution_count": 54,
   "id": "3df66050",
   "metadata": {},
   "outputs": [
    {
     "name": "stderr",
     "output_type": "stream",
     "text": [
      "C:\\Users\\THiNKBooK\\AppData\\Local\\Temp\\ipykernel_276\\3708061268.py:2: FutureWarning: Support for multi-dimensional indexing (e.g. `obj[:, None]`) is deprecated and will be removed in a future version.  Convert to a numpy array before indexing instead.\n",
      "  X_pred[col]=t.fit_transform(X_pred[col][:,np.newaxis])\n",
      "C:\\Users\\THiNKBooK\\AppData\\Local\\Temp\\ipykernel_276\\3708061268.py:2: FutureWarning: Support for multi-dimensional indexing (e.g. `obj[:, None]`) is deprecated and will be removed in a future version.  Convert to a numpy array before indexing instead.\n",
      "  X_pred[col]=t.fit_transform(X_pred[col][:,np.newaxis])\n",
      "C:\\Users\\THiNKBooK\\AppData\\Local\\Temp\\ipykernel_276\\3708061268.py:2: FutureWarning: Support for multi-dimensional indexing (e.g. `obj[:, None]`) is deprecated and will be removed in a future version.  Convert to a numpy array before indexing instead.\n",
      "  X_pred[col]=t.fit_transform(X_pred[col][:,np.newaxis])\n",
      "C:\\Users\\THiNKBooK\\AppData\\Local\\Temp\\ipykernel_276\\3708061268.py:2: FutureWarning: Support for multi-dimensional indexing (e.g. `obj[:, None]`) is deprecated and will be removed in a future version.  Convert to a numpy array before indexing instead.\n",
      "  X_pred[col]=t.fit_transform(X_pred[col][:,np.newaxis])\n",
      "C:\\Users\\THiNKBooK\\AppData\\Local\\Temp\\ipykernel_276\\3708061268.py:2: FutureWarning: Support for multi-dimensional indexing (e.g. `obj[:, None]`) is deprecated and will be removed in a future version.  Convert to a numpy array before indexing instead.\n",
      "  X_pred[col]=t.fit_transform(X_pred[col][:,np.newaxis])\n",
      "C:\\Users\\THiNKBooK\\AppData\\Local\\Temp\\ipykernel_276\\3708061268.py:2: FutureWarning: Support for multi-dimensional indexing (e.g. `obj[:, None]`) is deprecated and will be removed in a future version.  Convert to a numpy array before indexing instead.\n",
      "  X_pred[col]=t.fit_transform(X_pred[col][:,np.newaxis])\n"
     ]
    }
   ],
   "source": [
    "for col in ['RoomService','FoodCourt','VRDeck','Spa','ShoppingMall','Total_Sent']:\n",
    "    X_pred[col]=t.fit_transform(X_pred[col][:,np.newaxis])\n",
    "#both scaler work the same"
   ]
  },
  {
   "cell_type": "code",
   "execution_count": 55,
   "id": "72b94c6a",
   "metadata": {},
   "outputs": [
    {
     "data": {
      "image/png": "[encoded data removed]",
      "text/plain": [
       "<Figure size 432x288 with 1 Axes>"
      ]
     },
     "metadata": {
      "needs_background": "light"
     },
     "output_type": "display_data"
    }
   ],
   "source": [
    "ax = plt.axes()\n",
    "ax.hist(X_pred.Age, bins=25);\n",
    "\n",
    "ax.set(xlabel='Age (Scaled)', \n",
    "       ylabel='Frequency',\n",
    "       title='Distribution of Age');"
   ]
  },
  {
   "cell_type": "code",
   "execution_count": 56,
   "id": "bf58f1f3",
   "metadata": {},
   "outputs": [
    {
     "data": {
      "text/html": [
       "<div>\n",
       "<style scoped>\n",
       "    .dataframe tbody tr th:only-of-type {\n",
       "        vertical-align: middle;\n",
       "    }\n",
       "\n",
       "    .dataframe tbody tr th {\n",
       "        vertical-align: top;\n",
       "    }\n",
       "\n",
       "    .dataframe thead th {\n",
       "        text-align: right;\n",
       "    }\n",
       "</style>\n",
       "<table border=\"1\" class=\"dataframe\">\n",
       "  <thead>\n",
       "    <tr style=\"text-align: right;\">\n",
       "      <th></th>\n",
       "      <th>CryoSleep</th>\n",
       "      <th>Age</th>\n",
       "      <th>VIP</th>\n",
       "      <th>RoomService</th>\n",
       "      <th>FoodCourt</th>\n",
       "      <th>ShoppingMall</th>\n",
       "      <th>Spa</th>\n",
       "      <th>VRDeck</th>\n",
       "      <th>55 Cancri e</th>\n",
       "      <th>PSO J318.5-22</th>\n",
       "      <th>TRAPPIST-1e</th>\n",
       "      <th>Earth</th>\n",
       "      <th>Europa</th>\n",
       "      <th>Mars</th>\n",
       "      <th>Deck</th>\n",
       "      <th>Num</th>\n",
       "      <th>Side</th>\n",
       "      <th>Total_Sent</th>\n",
       "    </tr>\n",
       "  </thead>\n",
       "  <tbody>\n",
       "    <tr>\n",
       "      <th>0</th>\n",
       "      <td>1.0</td>\n",
       "      <td>0.341772</td>\n",
       "      <td>0.0</td>\n",
       "      <td>0.000000</td>\n",
       "      <td>0.000000</td>\n",
       "      <td>0.00000</td>\n",
       "      <td>0.000000</td>\n",
       "      <td>0.000000</td>\n",
       "      <td>0</td>\n",
       "      <td>0</td>\n",
       "      <td>1</td>\n",
       "      <td>1</td>\n",
       "      <td>0</td>\n",
       "      <td>0</td>\n",
       "      <td>6</td>\n",
       "      <td>3</td>\n",
       "      <td>1.0</td>\n",
       "      <td>0.000000</td>\n",
       "    </tr>\n",
       "    <tr>\n",
       "      <th>1</th>\n",
       "      <td>0.0</td>\n",
       "      <td>0.240506</td>\n",
       "      <td>0.0</td>\n",
       "      <td>0.000000</td>\n",
       "      <td>0.000356</td>\n",
       "      <td>0.00000</td>\n",
       "      <td>0.142260</td>\n",
       "      <td>0.000000</td>\n",
       "      <td>0</td>\n",
       "      <td>0</td>\n",
       "      <td>1</td>\n",
       "      <td>1</td>\n",
       "      <td>0</td>\n",
       "      <td>0</td>\n",
       "      <td>5</td>\n",
       "      <td>4</td>\n",
       "      <td>1.0</td>\n",
       "      <td>0.084120</td>\n",
       "    </tr>\n",
       "    <tr>\n",
       "      <th>2</th>\n",
       "      <td>1.0</td>\n",
       "      <td>0.392405</td>\n",
       "      <td>0.0</td>\n",
       "      <td>0.000000</td>\n",
       "      <td>0.000000</td>\n",
       "      <td>0.00000</td>\n",
       "      <td>0.000000</td>\n",
       "      <td>0.000000</td>\n",
       "      <td>1</td>\n",
       "      <td>0</td>\n",
       "      <td>0</td>\n",
       "      <td>0</td>\n",
       "      <td>1</td>\n",
       "      <td>0</td>\n",
       "      <td>2</td>\n",
       "      <td>0</td>\n",
       "      <td>1.0</td>\n",
       "      <td>0.000000</td>\n",
       "    </tr>\n",
       "    <tr>\n",
       "      <th>3</th>\n",
       "      <td>0.0</td>\n",
       "      <td>0.481013</td>\n",
       "      <td>0.0</td>\n",
       "      <td>0.000000</td>\n",
       "      <td>0.263206</td>\n",
       "      <td>0.00000</td>\n",
       "      <td>0.009121</td>\n",
       "      <td>0.026266</td>\n",
       "      <td>0</td>\n",
       "      <td>0</td>\n",
       "      <td>1</td>\n",
       "      <td>0</td>\n",
       "      <td>1</td>\n",
       "      <td>0</td>\n",
       "      <td>2</td>\n",
       "      <td>1</td>\n",
       "      <td>1.0</td>\n",
       "      <td>0.220341</td>\n",
       "    </tr>\n",
       "    <tr>\n",
       "      <th>4</th>\n",
       "      <td>0.0</td>\n",
       "      <td>0.253165</td>\n",
       "      <td>0.0</td>\n",
       "      <td>0.000865</td>\n",
       "      <td>0.000000</td>\n",
       "      <td>0.07658</td>\n",
       "      <td>0.000000</td>\n",
       "      <td>0.000000</td>\n",
       "      <td>0</td>\n",
       "      <td>0</td>\n",
       "      <td>1</td>\n",
       "      <td>1</td>\n",
       "      <td>0</td>\n",
       "      <td>0</td>\n",
       "      <td>5</td>\n",
       "      <td>5</td>\n",
       "      <td>1.0</td>\n",
       "      <td>0.019159</td>\n",
       "    </tr>\n",
       "    <tr>\n",
       "      <th>...</th>\n",
       "      <td>...</td>\n",
       "      <td>...</td>\n",
       "      <td>...</td>\n",
       "      <td>...</td>\n",
       "      <td>...</td>\n",
       "      <td>...</td>\n",
       "      <td>...</td>\n",
       "      <td>...</td>\n",
       "      <td>...</td>\n",
       "      <td>...</td>\n",
       "      <td>...</td>\n",
       "      <td>...</td>\n",
       "      <td>...</td>\n",
       "      <td>...</td>\n",
       "      <td>...</td>\n",
       "      <td>...</td>\n",
       "      <td>...</td>\n",
       "      <td>...</td>\n",
       "    </tr>\n",
       "    <tr>\n",
       "      <th>4272</th>\n",
       "      <td>1.0</td>\n",
       "      <td>0.430380</td>\n",
       "      <td>0.0</td>\n",
       "      <td>0.000000</td>\n",
       "      <td>0.000000</td>\n",
       "      <td>0.00000</td>\n",
       "      <td>0.000000</td>\n",
       "      <td>0.000000</td>\n",
       "      <td>0</td>\n",
       "      <td>0</td>\n",
       "      <td>1</td>\n",
       "      <td>1</td>\n",
       "      <td>0</td>\n",
       "      <td>0</td>\n",
       "      <td>6</td>\n",
       "      <td>1496</td>\n",
       "      <td>1.0</td>\n",
       "      <td>0.000000</td>\n",
       "    </tr>\n",
       "    <tr>\n",
       "      <th>4273</th>\n",
       "      <td>0.0</td>\n",
       "      <td>0.531646</td>\n",
       "      <td>0.0</td>\n",
       "      <td>0.000000</td>\n",
       "      <td>0.033514</td>\n",
       "      <td>0.00205</td>\n",
       "      <td>0.000504</td>\n",
       "      <td>0.006466</td>\n",
       "      <td>0</td>\n",
       "      <td>0</td>\n",
       "      <td>1</td>\n",
       "      <td>1</td>\n",
       "      <td>0</td>\n",
       "      <td>0</td>\n",
       "      <td>8</td>\n",
       "      <td>442.0</td>\n",
       "      <td>1.0</td>\n",
       "      <td>0.030238</td>\n",
       "    </tr>\n",
       "    <tr>\n",
       "      <th>4274</th>\n",
       "      <td>1.0</td>\n",
       "      <td>0.329114</td>\n",
       "      <td>0.0</td>\n",
       "      <td>0.000000</td>\n",
       "      <td>0.000000</td>\n",
       "      <td>0.00000</td>\n",
       "      <td>0.000000</td>\n",
       "      <td>0.000000</td>\n",
       "      <td>1</td>\n",
       "      <td>0</td>\n",
       "      <td>0</td>\n",
       "      <td>0</td>\n",
       "      <td>0</td>\n",
       "      <td>1</td>\n",
       "      <td>3</td>\n",
       "      <td>296</td>\n",
       "      <td>0.0</td>\n",
       "      <td>0.000000</td>\n",
       "    </tr>\n",
       "    <tr>\n",
       "      <th>4275</th>\n",
       "      <td>0.0</td>\n",
       "      <td>0.329114</td>\n",
       "      <td>0.0</td>\n",
       "      <td>0.000000</td>\n",
       "      <td>0.106042</td>\n",
       "      <td>0.00000</td>\n",
       "      <td>0.000000</td>\n",
       "      <td>0.023482</td>\n",
       "      <td>0</td>\n",
       "      <td>0</td>\n",
       "      <td>0</td>\n",
       "      <td>0</td>\n",
       "      <td>1</td>\n",
       "      <td>0</td>\n",
       "      <td>3</td>\n",
       "      <td>297</td>\n",
       "      <td>0.0</td>\n",
       "      <td>0.095140</td>\n",
       "    </tr>\n",
       "    <tr>\n",
       "      <th>4276</th>\n",
       "      <td>1.0</td>\n",
       "      <td>0.544304</td>\n",
       "      <td>0.0</td>\n",
       "      <td>0.000000</td>\n",
       "      <td>0.000000</td>\n",
       "      <td>0.00000</td>\n",
       "      <td>0.000000</td>\n",
       "      <td>0.000000</td>\n",
       "      <td>0</td>\n",
       "      <td>1</td>\n",
       "      <td>0</td>\n",
       "      <td>1</td>\n",
       "      <td>0</td>\n",
       "      <td>0</td>\n",
       "      <td>6</td>\n",
       "      <td>1498</td>\n",
       "      <td>1.0</td>\n",
       "      <td>0.000000</td>\n",
       "    </tr>\n",
       "  </tbody>\n",
       "</table>\n",
       "<p>4277 rows × 18 columns</p>\n",
       "</div>"
      ],
      "text/plain": [
       "      CryoSleep       Age  VIP  RoomService  FoodCourt  ShoppingMall  \\\n",
       "0           1.0  0.341772  0.0     0.000000   0.000000       0.00000   \n",
       "1           0.0  0.240506  0.0     0.000000   0.000356       0.00000   \n",
       "2           1.0  0.392405  0.0     0.000000   0.000000       0.00000   \n",
       "3           0.0  0.481013  0.0     0.000000   0.263206       0.00000   \n",
       "4           0.0  0.253165  0.0     0.000865   0.000000       0.07658   \n",
       "...         ...       ...  ...          ...        ...           ...   \n",
       "4272        1.0  0.430380  0.0     0.000000   0.000000       0.00000   \n",
       "4273        0.0  0.531646  0.0     0.000000   0.033514       0.00205   \n",
       "4274        1.0  0.329114  0.0     0.000000   0.000000       0.00000   \n",
       "4275        0.0  0.329114  0.0     0.000000   0.106042       0.00000   \n",
       "4276        1.0  0.544304  0.0     0.000000   0.000000       0.00000   \n",
       "\n",
       "           Spa    VRDeck  55 Cancri e  PSO J318.5-22  TRAPPIST-1e  Earth  \\\n",
       "0     0.000000  0.000000            0              0            1      1   \n",
       "1     0.142260  0.000000            0              0            1      1   \n",
       "2     0.000000  0.000000            1              0            0      0   \n",
       "3     0.009121  0.026266            0              0            1      0   \n",
       "4     0.000000  0.000000            0              0            1      1   \n",
       "...        ...       ...          ...            ...          ...    ...   \n",
       "4272  0.000000  0.000000            0              0            1      1   \n",
       "4273  0.000504  0.006466            0              0            1      1   \n",
       "4274  0.000000  0.000000            1              0            0      0   \n",
       "4275  0.000000  0.023482            0              0            0      0   \n",
       "4276  0.000000  0.000000            0              1            0      1   \n",
       "\n",
       "      Europa  Mars  Deck    Num  Side  Total_Sent  \n",
       "0          0     0     6      3   1.0    0.000000  \n",
       "1          0     0     5      4   1.0    0.084120  \n",
       "2          1     0     2      0   1.0    0.000000  \n",
       "3          1     0     2      1   1.0    0.220341  \n",
       "4          0     0     5      5   1.0    0.019159  \n",
       "...      ...   ...   ...    ...   ...         ...  \n",
       "4272       0     0     6   1496   1.0    0.000000  \n",
       "4273       0     0     8  442.0   1.0    0.030238  \n",
       "4274       0     1     3    296   0.0    0.000000  \n",
       "4275       1     0     3    297   0.0    0.095140  \n",
       "4276       0     0     6   1498   1.0    0.000000  \n",
       "\n",
       "[4277 rows x 18 columns]"
      ]
     },
     "execution_count": 56,
     "metadata": {},
     "output_type": "execute_result"
    }
   ],
   "source": [
    "X_pred"
   ]
  },
  {
   "cell_type": "markdown",
   "id": "a59cdad8",
   "metadata": {},
   "source": [
    "# **Normal Distribution SKEW**"
   ]
  },
  {
   "cell_type": "code",
   "execution_count": 57,
   "id": "e4506900",
   "metadata": {},
   "outputs": [
    {
     "data": {
      "text/plain": [
       "CryoSleep         0.632024\n",
       "Age               0.431102\n",
       "VIP               6.381293\n",
       "RoomService       6.397766\n",
       "FoodCourt         7.177515\n",
       "ShoppingMall     12.763842\n",
       "Spa               7.716450\n",
       "VRDeck            7.904554\n",
       "Transported      -0.014497\n",
       "55 Cancri e       1.446133\n",
       "PSO J318.5-22     2.832741\n",
       "TRAPPIST-1e      -0.774009\n",
       "Earth            -0.117790\n",
       "Europa            1.185132\n",
       "Mars              1.482042\n",
       "Deck             -0.786829\n",
       "Num               0.746458\n",
       "Side             -0.064695\n",
       "Total_Sent        4.417588\n",
       "dtype: float64"
      ]
     },
     "execution_count": 57,
     "metadata": {},
     "output_type": "execute_result"
    }
   ],
   "source": [
    "df_train.skew()\n"
   ]
  },
  {
   "cell_type": "code",
   "execution_count": 58,
   "id": "f026c0b3",
   "metadata": {},
   "outputs": [
    {
     "data": {
      "text/plain": [
       "<Figure size 432x288 with 0 Axes>"
      ]
     },
     "metadata": {},
     "output_type": "display_data"
    },
    {
     "data": {
      "image/png": "[encoded data removed]",
      "text/plain": [
       "<Figure size 864x576 with 3 Axes>"
      ]
     },
     "metadata": {
      "needs_background": "light"
     },
     "output_type": "display_data"
    },
    {
     "data": {
      "text/plain": [
       "<Figure size 432x288 with 0 Axes>"
      ]
     },
     "metadata": {},
     "output_type": "display_data"
    },
    {
     "data": {
      "image/png": "[encoded data removed]",
      "text/plain": [
       "<Figure size 864x576 with 3 Axes>"
      ]
     },
     "metadata": {
      "needs_background": "light"
     },
     "output_type": "display_data"
    },
    {
     "data": {
      "text/plain": [
       "<Figure size 432x288 with 0 Axes>"
      ]
     },
     "metadata": {},
     "output_type": "display_data"
    },
    {
     "data": {
      "image/png": "[encoded data removed]",
      "text/plain": [
       "<Figure size 864x576 with 3 Axes>"
      ]
     },
     "metadata": {
      "needs_background": "light"
     },
     "output_type": "display_data"
    },
    {
     "data": {
      "text/plain": [
       "<Figure size 432x288 with 0 Axes>"
      ]
     },
     "metadata": {},
     "output_type": "display_data"
    },
    {
     "data": {
      "image/png": "[encoded data removed]",
      "text/plain": [
       "<Figure size 864x576 with 3 Axes>"
      ]
     },
     "metadata": {
      "needs_background": "light"
     },
     "output_type": "display_data"
    },
    {
     "data": {
      "text/plain": [
       "<Figure size 432x288 with 0 Axes>"
      ]
     },
     "metadata": {},
     "output_type": "display_data"
    },
    {
     "data": {
      "text/plain": [
       "<Figure size 432x288 with 0 Axes>"
      ]
     },
     "metadata": {},
     "output_type": "display_data"
    },
    {
     "data": {
      "image/png": "[encoded data removed]",
      "text/plain": [
       "<Figure size 864x576 with 3 Axes>"
      ]
     },
     "metadata": {
      "needs_background": "light"
     },
     "output_type": "display_data"
    },
    {
     "data": {
      "text/plain": [
       "<Figure size 432x288 with 0 Axes>"
      ]
     },
     "metadata": {},
     "output_type": "display_data"
    },
    {
     "data": {
      "image/png": "[encoded data removed]",
      "text/plain": [
       "<Figure size 864x576 with 3 Axes>"
      ]
     },
     "metadata": {
      "needs_background": "light"
     },
     "output_type": "display_data"
    }
   ],
   "source": [
    "\n",
    "#fig,(ax_before,ax_log1p,ax_sqrt)=plt.subplots(1,3,figsize=(12,8))\n",
    "for field in ['RoomService','FoodCourt','VRDeck','Spa','Age','ShoppingMall','Total_Sent']:\n",
    "    plt.figure()\n",
    "    if abs(df_train[field].skew())>0.75:\n",
    "        fig,(ax_before,ax_log1p,ax_sqrt)=plt.subplots(1,3,figsize=(12,8))\n",
    "        df_train[field].hist(ax=ax_before)\n",
    "        df_train[field].apply(np.sqrt).hist(ax=ax_log1p)\n",
    "        df_train[field].apply(np.sqrt).apply(np.sqrt).hist(ax=ax_sqrt)\n",
    "        ax_before.set(title='before',ylabel='frequency',xlabel=field)\n",
    "        ax_log1p.set(title='log1p',ylabel='frequency',xlabel=field)\n",
    "        ax_sqrt.set(title='sqrt',ylabel='frequency',xlabel=field)\n",
    "        fig.suptitle(f'Field{field}')"
   ]
  },
  {
   "cell_type": "markdown",
   "id": "4f3d2dde",
   "metadata": {},
   "source": [
    "df_train['Age']=r.fit_transform(df_train[\"Age\"][:,np.newaxis])"
   ]
  },
  {
   "cell_type": "code",
   "execution_count": 59,
   "id": "44b0bfac",
   "metadata": {},
   "outputs": [],
   "source": [
    "for col in ['RoomService','FoodCourt','VRDeck','Spa','Age','ShoppingMall','Total_Sent']:\n",
    "    if df_train[col].skew()>0.75:\n",
    "        df_train[col]=df_train[col].apply(np.sqrt).apply(np.sqrt)#twice but make sure data is positif\n",
    "        X_pred[col]=X_pred[col].apply(np.sqrt).apply(np.sqrt)"
   ]
  },
  {
   "cell_type": "markdown",
   "id": "b11e9dd1",
   "metadata": {},
   "source": [
    "###### - comeback log1p/ cb sqrt np.square\n",
    "for col in ['RoomService','FoodCourt','VRDeck','Spa','Age','ShoppingMall']:\n",
    "    #if df_train[col].skew()>0.75:\n",
    "    df_train[col]=df_train[col].apply(np.expm1)"
   ]
  },
  {
   "cell_type": "markdown",
   "id": "aa10dd03",
   "metadata": {},
   "source": [
    "### polynomial feat with crysleep and total spent"
   ]
  },
  {
   "cell_type": "code",
   "execution_count": 60,
   "id": "40c81b81",
   "metadata": {},
   "outputs": [
    {
     "data": {
      "text/plain": [
       "Index(['CryoSleep', 'Age', 'VIP', 'RoomService', 'FoodCourt', 'ShoppingMall',\n",
       "       'Spa', 'VRDeck', 'Transported', '55 Cancri e', 'PSO J318.5-22',\n",
       "       'TRAPPIST-1e', 'Earth', 'Europa', 'Mars', 'Deck', 'Num', 'Side',\n",
       "       'Total_Sent'],\n",
       "      dtype='object')"
      ]
     },
     "execution_count": 60,
     "metadata": {},
     "output_type": "execute_result"
    }
   ],
   "source": [
    "df_train.columns"
   ]
  },
  {
   "cell_type": "markdown",
   "id": "b03bcd81",
   "metadata": {},
   "source": [
    "df_train['Cr_To']=df_train.CryoSleep*df_train.Total_Sent\n",
    "X_test['Cr_To']=X_test.CryoSleep*X_test.Total_Sent\n",
    "\n"
   ]
  },
  {
   "cell_type": "code",
   "execution_count": 71,
   "id": "ab72f20c",
   "metadata": {},
   "outputs": [],
   "source": [
    "trainn,testt=train_test_split(df_train,random_state=0,test_size=0.15)#best \n",
    "\n",
    "X_train=trainn.drop(['Transported'],axis=1)\n",
    "X_test=testt.drop(['Transported'],axis=1)\n",
    "y_train=trainn.Transported\n",
    "y_test=testt.Transported"
   ]
  },
  {
   "cell_type": "code",
   "execution_count": 95,
   "id": "161076ee",
   "metadata": {},
   "outputs": [
    {
     "name": "stderr",
     "output_type": "stream",
     "text": [
      "No artists with labels found to put in legend.  Note that artists whose label start with an underscore are ignored when legend() is called with no argument.\n"
     ]
    },
    {
     "data": {
      "text/plain": [
       "<matplotlib.legend.Legend at 0x27dd9670100>"
      ]
     },
     "execution_count": 95,
     "metadata": {},
     "output_type": "execute_result"
    },
    {
     "data": {
      "image/png": "[encoded data removed]",
      "text/plain": [
       "<Figure size 402.375x360 with 1 Axes>"
      ]
     },
     "metadata": {
      "needs_background": "light"
     },
     "output_type": "display_data"
    }
   ],
   "source": [
    "sns.displot(df_train.groupby('VIP')['Transported'])\n",
    "plt.legend()"
   ]
  },
  {
   "cell_type": "code",
   "execution_count": 110,
   "id": "2522fa33",
   "metadata": {},
   "outputs": [
    {
     "name": "stderr",
     "output_type": "stream",
     "text": [
      "No artists with labels found to put in legend.  Note that artists whose label start with an underscore are ignored when legend() is called with no argument.\n"
     ]
    },
    {
     "data": {
      "text/plain": [
       "<matplotlib.legend.Legend at 0x27ddb55f1f0>"
      ]
     },
     "execution_count": 110,
     "metadata": {},
     "output_type": "execute_result"
    },
    {
     "data": {
      "image/png": "[encoded data removed]",
      "text/plain": [
       "<Figure size 427.125x360 with 1 Axes>"
      ]
     },
     "metadata": {
      "needs_background": "light"
     },
     "output_type": "display_data"
    }
   ],
   "source": [
    "sns.displot(x='CryoSleep',data=df_train,hue='Transported')\n",
    "plt.legend()"
   ]
  },
  {
   "cell_type": "code",
   "execution_count": 109,
   "id": "2916a94e",
   "metadata": {},
   "outputs": [
    {
     "name": "stderr",
     "output_type": "stream",
     "text": [
      "C:\\Users\\THiNKBooK\\anaconda3\\lib\\site-packages\\seaborn\\categorical.py:1296: UserWarning: 86.5% of the points cannot be placed; you may want to decrease the size of the markers or use stripplot.\n",
      "  warnings.warn(msg, UserWarning)\n"
     ]
    },
    {
     "data": {
      "image/png": "[encoded data removed]",
      "text/plain": [
       "<Figure size 432x288 with 1 Axes>"
      ]
     },
     "metadata": {
      "needs_background": "light"
     },
     "output_type": "display_data"
    }
   ],
   "source": [
    "ax = sns.swarmplot(data=df_train, x=\"Age\", hue=\"Transported\")"
   ]
  },
  {
   "cell_type": "code",
   "execution_count": 77,
   "id": "b06b3f1c",
   "metadata": {},
   "outputs": [
    {
     "data": {
      "text/plain": [
       "0       0\n",
       "1       1\n",
       "2       0\n",
       "3       0\n",
       "4       1\n",
       "       ..\n",
       "8684    1\n",
       "8689    0\n",
       "8690    1\n",
       "8691    0\n",
       "8692    1\n",
       "Name: Transported, Length: 6028, dtype: int64"
      ]
     },
     "execution_count": 77,
     "metadata": {},
     "output_type": "execute_result"
    }
   ],
   "source": [
    "(df_train.groupby('Num')['Transported']).head()"
   ]
  },
  {
   "cell_type": "markdown",
   "id": "50d4871d",
   "metadata": {},
   "source": [
    "df_train['Total_Sent']=df_train[['RoomService','FoodCourt','VRDeck','Spa','ShoppingMall']].sum(axis=1)\n",
    "X_test['Total_Sent']=X_test[['RoomService','FoodCourt','VRDeck','Spa','ShoppingMall']].sum(axis=1)\n"
   ]
  },
  {
   "cell_type": "code",
   "execution_count": 73,
   "id": "a426ddeb",
   "metadata": {},
   "outputs": [
    {
     "data": {
      "text/plain": [
       "0.8151840490797546"
      ]
     },
     "execution_count": 73,
     "metadata": {},
     "output_type": "execute_result"
    }
   ],
   "source": [
    "d.fit(X_train,y_train)\n",
    "y_pred=d.predict(X_test)\n",
    "accuracy_score(y_pred,y_test)"
   ]
  },
  {
   "cell_type": "code",
   "execution_count": 64,
   "id": "56c945ee",
   "metadata": {},
   "outputs": [
    {
     "name": "stdout",
     "output_type": "stream",
     "text": [
      "              precision    recall  f1-score   support\n",
      "\n",
      "           0       0.84      0.80      0.82       691\n",
      "           1       0.79      0.83      0.81       613\n",
      "\n",
      "    accuracy                           0.82      1304\n",
      "   macro avg       0.82      0.82      0.82      1304\n",
      "weighted avg       0.82      0.82      0.82      1304\n",
      "\n",
      "[[552 139]\n",
      " [102 511]]\n"
     ]
    }
   ],
   "source": [
    "print(classification_report(y_pred,y_test))\n",
    "print(confusion_matrix(y_pred,y_test))\n"
   ]
  },
  {
   "cell_type": "markdown",
   "id": "03c4a760",
   "metadata": {},
   "source": [
    "- **0.8151840490797546** MinMax-double sqrt- feature eng before scalling No POLYFEA"
   ]
  },
  {
   "cell_type": "markdown",
   "id": "fdacf354",
   "metadata": {},
   "source": [
    "# Different evaluations using pipelines"
   ]
  },
  {
   "cell_type": "code",
   "execution_count": 35,
   "id": "dda8d7b7",
   "metadata": {},
   "outputs": [],
   "source": [
    "from sklearn.tree import DecisionTreeClassifier\n",
    "from sklearn.ensemble import RandomForestClassifier,AdaBoostClassifier\n",
    "from sklearn.svm import SVC\n",
    "from sklearn.neighbors import KNeighborsClassifier\n",
    "from sklearn.pipeline import make_pipeline\n",
    "from sklearn.feature_selection import SelectKBest,f_classif\n",
    "from sklearn.preprocessing import PolynomialFeatures, StandardScaler\n",
    "from sklearn.decomposition import PCA\n",
    "from sklearn.model_selection import learning_curve"
   ]
  },
  {
   "cell_type": "code",
   "execution_count": null,
   "id": "2f70549d",
   "metadata": {},
   "outputs": [],
   "source": [
    "def evaluation(model):\n",
    "    model.fit(X_train,y_train)\n",
    "    ypred=model.predict(X_test)\n",
    "    print(confusion_matrix(y_test,y_pred))\n",
    "    print(classification_report(y_test,y_pred))\n",
    "    N,train_score,val_score= learning_curve(model,X_train,y_train,cv=4,train_sizes=np.linspace(0.1,1,10),scoring='f1')\n",
    "    plt.figure(figsize=(12,8))\n",
    "    plt.plot(N,train_score.mean(axis=1),label='train score')#fait attention train_score.mean(axis=1)\n",
    "    plt.plot(N,val_score.mean(axis=1),label='validation score')\n",
    "    plt.legend()"
   ]
  },
  {
   "cell_type": "code",
   "execution_count": null,
   "id": "f346aa1e",
   "metadata": {},
   "outputs": [],
   "source": [
    "preprocessor=make_pipeline(SelectKBest(f_classif,k=5))#include_bias=False pour les avertissemnet\n",
    "\n",
    "random_forest= make_pipeline(preprocessor,RandomForestClassifier(random_state=0))\n",
    "\n",
    "ada_boost = make_pipeline(preprocessor,AdaBoostClassifier(random_state=0))\n",
    "svm = make_pipeline(preprocessor,StandardScaler(),SVC(random_state=0))#il faut ajouter un algorithme ge normalisation\n",
    "kNN =make_pipeline(preprocessor,StandardScaler(),KNeighborsClassifier())\n",
    "\n",
    "#list_models=[random_forest,kNN,svm,ada_boost]\n",
    "list_models={'random_forest':random_forest,'kNN':kNN,'svm':svm,'ada_boost':ada_boost}"
   ]
  },
  {
   "cell_type": "code",
   "execution_count": null,
   "id": "a3158bac",
   "metadata": {},
   "outputs": [],
   "source": [
    "for name,model in list_models.items() :\n",
    "    print(name)\n",
    "    evaluation(model)"
   ]
  },
  {
   "cell_type": "code",
   "execution_count": null,
   "id": "048d7e6d",
   "metadata": {},
   "outputs": [],
   "source": [
    "for model in [model1,d,model3,model4,m,g]:\n",
    "    model.fit(X_train,y_train)\n",
    "    print(model.__class__.__name__,model.score(X_test,y_test))"
   ]
  },
  {
   "cell_type": "code",
   "execution_count": null,
   "id": "bdc5b863",
   "metadata": {},
   "outputs": [],
   "source": [
    "evaluation(random_forest)"
   ]
  },
  {
   "cell_type": "code",
   "execution_count": null,
   "id": "c4c713be",
   "metadata": {},
   "outputs": [],
   "source": [
    "df_train.Num.value_counts()"
   ]
  },
  {
   "cell_type": "markdown",
   "id": "40a94e11",
   "metadata": {},
   "source": [
    "df_train.VIP=pd.to_numeric(df_train['VIP'], downcast='integer')\n",
    "for i in ['CryoSleep','Side','Num','Mars','Europa','Earth','TRAPPIST-1e','PSO J318.5-22','55 Cancri e']:\n",
    "    df_train[i]=pd.to_numeric(df_train[i], downcast='integer')"
   ]
  },
  {
   "cell_type": "code",
   "execution_count": null,
   "id": "41e2e040",
   "metadata": {},
   "outputs": [],
   "source": [
    "df_train.dtypes"
   ]
  },
  {
   "cell_type": "markdown",
   "id": "68666c25",
   "metadata": {},
   "source": [
    "for col in ['RoomService','FoodCourt','VRDeck','Spa','Age','ShoppingMall']:\n",
    "    plt.figure()\n",
    "    sns.distplot(df_train[col],df_train['Transported'])"
   ]
  },
  {
   "cell_type": "code",
   "execution_count": null,
   "id": "da6cc792",
   "metadata": {},
   "outputs": [],
   "source": [
    "sns.set_context('talk')\n",
    "sns.pairplot(df_train[['RoomService','FoodCourt','VRDeck','Spa','Age','ShoppingMall','Transported']], hue='Transported');"
   ]
  },
  {
   "cell_type": "code",
   "execution_count": null,
   "id": "78a25272",
   "metadata": {},
   "outputs": [],
   "source": [
    "plt.figure(figsize=(12,8))\n",
    "df_train[['RoomService','FoodCourt','VRDeck','Spa','Age','ShoppingMall','Transported']].boxplot(by='Transported',figsize=(12,8));"
   ]
  },
  {
   "cell_type": "code",
   "execution_count": null,
   "id": "399151ad",
   "metadata": {},
   "outputs": [],
   "source": [
    "evaluation(random_forest)"
   ]
  },
  {
   "cell_type": "code",
   "execution_count": null,
   "id": "f0172c83",
   "metadata": {},
   "outputs": [],
   "source": []
  }
 ],
 "metadata": {
  "kernelspec": {
   "display_name": "Python 3 (ipykernel)",
   "language": "python",
   "name": "python3"
  },
  "language_info": {
   "codemirror_mode": {
    "name": "ipython",
    "version": 3
   },
   "file_extension": ".py",
   "mimetype": "text/x-python",
   "name": "python",
   "nbconvert_exporter": "python",
   "pygments_lexer": "ipython3",
   "version": "3.9.12"
  }
 },
 "nbformat": 4,
 "nbformat_minor": 5
}
